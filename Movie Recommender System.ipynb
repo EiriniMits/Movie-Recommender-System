{
 "cells": [
  {
   "cell_type": "markdown",
   "metadata": {},
   "source": [
    "# FINAL PROJECT IN LEARNING ANALYTICS\n",
    "\n",
    "BY EIRINI MITSOPOULOU & KONSTANTINA PAPADOPOULOU"
   ]
  },
  {
   "cell_type": "markdown",
   "metadata": {},
   "source": [
    "# Movie Recommender System"
   ]
  },
  {
   "cell_type": "markdown",
   "metadata": {},
   "source": [
    "Recommender systems have become ubiquitous in our lives. The need to build robust movie recommendation systems is extremely important given the huge demand for personalized content of modern consumers. \n",
    "\n",
    "In this project, we attempt to understand the different kinds of recommendation systems and compare their performance on the MovieLens dataset. It includes two of the most commonly used filtering techniques for RS. These are Content–Based Filtering (CBF) and Collaborative Filtering (CF)."
   ]
  },
  {
   "cell_type": "code",
   "execution_count": 24,
   "metadata": {},
   "outputs": [],
   "source": [
    "# import the needed libraries / modules\n",
    "%matplotlib inline\n",
    "import pandas as pd\n",
    "import numpy as np\n",
    "import matplotlib.pyplot as plt\n",
    "import seaborn as sns\n",
    "import ast\n",
    "import datetime\n",
    "from scipy import stats as st\n",
    "from ast import literal_eval\n",
    "import statsmodels.formula.api as smf\n",
    "from sklearn.feature_extraction.text import TfidfVectorizer, CountVectorizer\n",
    "from sklearn.metrics.pairwise import linear_kernel, cosine_similarity\n",
    "from sklearn.neighbors import NearestNeighbors\n",
    "from scipy.sparse import csr_matrix\n",
    "\n",
    "import warnings; warnings.simplefilter('ignore')"
   ]
  },
  {
   "cell_type": "code",
   "execution_count": 25,
   "metadata": {
    "scrolled": true
   },
   "outputs": [
    {
     "data": {
      "text/html": [
       "<div>\n",
       "<style scoped>\n",
       "    .dataframe tbody tr th:only-of-type {\n",
       "        vertical-align: middle;\n",
       "    }\n",
       "\n",
       "    .dataframe tbody tr th {\n",
       "        vertical-align: top;\n",
       "    }\n",
       "\n",
       "    .dataframe thead th {\n",
       "        text-align: right;\n",
       "    }\n",
       "</style>\n",
       "<table border=\"1\" class=\"dataframe\">\n",
       "  <thead>\n",
       "    <tr style=\"text-align: right;\">\n",
       "      <th></th>\n",
       "      <th>adult</th>\n",
       "      <th>belongs_to_collection</th>\n",
       "      <th>budget</th>\n",
       "      <th>genres</th>\n",
       "      <th>homepage</th>\n",
       "      <th>id</th>\n",
       "      <th>imdb_id</th>\n",
       "      <th>original_language</th>\n",
       "      <th>original_title</th>\n",
       "      <th>overview</th>\n",
       "      <th>...</th>\n",
       "      <th>release_date</th>\n",
       "      <th>revenue</th>\n",
       "      <th>runtime</th>\n",
       "      <th>spoken_languages</th>\n",
       "      <th>status</th>\n",
       "      <th>tagline</th>\n",
       "      <th>title</th>\n",
       "      <th>video</th>\n",
       "      <th>vote_average</th>\n",
       "      <th>vote_count</th>\n",
       "    </tr>\n",
       "  </thead>\n",
       "  <tbody>\n",
       "    <tr>\n",
       "      <th>0</th>\n",
       "      <td>False</td>\n",
       "      <td>{'id': 10194, 'name': 'Toy Story Collection', ...</td>\n",
       "      <td>30000000</td>\n",
       "      <td>[{'id': 16, 'name': 'Animation'}, {'id': 35, '...</td>\n",
       "      <td>http://toystory.disney.com/toy-story</td>\n",
       "      <td>862</td>\n",
       "      <td>tt0114709</td>\n",
       "      <td>en</td>\n",
       "      <td>Toy Story</td>\n",
       "      <td>Led by Woody, Andy's toys live happily in his ...</td>\n",
       "      <td>...</td>\n",
       "      <td>1995-10-30</td>\n",
       "      <td>373554033.0</td>\n",
       "      <td>81.0</td>\n",
       "      <td>[{'iso_639_1': 'en', 'name': 'English'}]</td>\n",
       "      <td>Released</td>\n",
       "      <td>NaN</td>\n",
       "      <td>Toy Story</td>\n",
       "      <td>False</td>\n",
       "      <td>7.7</td>\n",
       "      <td>5415.0</td>\n",
       "    </tr>\n",
       "    <tr>\n",
       "      <th>1</th>\n",
       "      <td>False</td>\n",
       "      <td>NaN</td>\n",
       "      <td>65000000</td>\n",
       "      <td>[{'id': 12, 'name': 'Adventure'}, {'id': 14, '...</td>\n",
       "      <td>NaN</td>\n",
       "      <td>8844</td>\n",
       "      <td>tt0113497</td>\n",
       "      <td>en</td>\n",
       "      <td>Jumanji</td>\n",
       "      <td>When siblings Judy and Peter discover an encha...</td>\n",
       "      <td>...</td>\n",
       "      <td>1995-12-15</td>\n",
       "      <td>262797249.0</td>\n",
       "      <td>104.0</td>\n",
       "      <td>[{'iso_639_1': 'en', 'name': 'English'}, {'iso...</td>\n",
       "      <td>Released</td>\n",
       "      <td>Roll the dice and unleash the excitement!</td>\n",
       "      <td>Jumanji</td>\n",
       "      <td>False</td>\n",
       "      <td>6.9</td>\n",
       "      <td>2413.0</td>\n",
       "    </tr>\n",
       "  </tbody>\n",
       "</table>\n",
       "<p>2 rows × 24 columns</p>\n",
       "</div>"
      ],
      "text/plain": [
       "   adult                              belongs_to_collection    budget  \\\n",
       "0  False  {'id': 10194, 'name': 'Toy Story Collection', ...  30000000   \n",
       "1  False                                                NaN  65000000   \n",
       "\n",
       "                                              genres  \\\n",
       "0  [{'id': 16, 'name': 'Animation'}, {'id': 35, '...   \n",
       "1  [{'id': 12, 'name': 'Adventure'}, {'id': 14, '...   \n",
       "\n",
       "                               homepage    id    imdb_id original_language  \\\n",
       "0  http://toystory.disney.com/toy-story   862  tt0114709                en   \n",
       "1                                   NaN  8844  tt0113497                en   \n",
       "\n",
       "  original_title                                           overview  \\\n",
       "0      Toy Story  Led by Woody, Andy's toys live happily in his ...   \n",
       "1        Jumanji  When siblings Judy and Peter discover an encha...   \n",
       "\n",
       "     ...      release_date      revenue runtime  \\\n",
       "0    ...        1995-10-30  373554033.0    81.0   \n",
       "1    ...        1995-12-15  262797249.0   104.0   \n",
       "\n",
       "                                    spoken_languages    status  \\\n",
       "0           [{'iso_639_1': 'en', 'name': 'English'}]  Released   \n",
       "1  [{'iso_639_1': 'en', 'name': 'English'}, {'iso...  Released   \n",
       "\n",
       "                                     tagline      title  video vote_average  \\\n",
       "0                                        NaN  Toy Story  False          7.7   \n",
       "1  Roll the dice and unleash the excitement!    Jumanji  False          6.9   \n",
       "\n",
       "  vote_count  \n",
       "0     5415.0  \n",
       "1     2413.0  \n",
       "\n",
       "[2 rows x 24 columns]"
      ]
     },
     "execution_count": 25,
     "metadata": {},
     "output_type": "execute_result"
    }
   ],
   "source": [
    "# read the movies dataset\n",
    "metadata = pd.read_csv(\"movies_metadata.csv\")\n",
    "metadata = metadata[pd.to_numeric(metadata['popularity'], errors='coerce').notnull()]\n",
    "metadata.drop(metadata.index[19730],inplace=True)\n",
    "metadata.drop(metadata.index[29502],inplace=True)\n",
    "metadata.drop(metadata.index[35585],inplace=True)\n",
    "metadata.id =metadata.id.astype(np.int64)\n",
    "metadata['popularity'] = metadata['popularity'].astype(float)\n",
    "metadata.head(2)"
   ]
  },
  {
   "cell_type": "code",
   "execution_count": 28,
   "metadata": {},
   "outputs": [
    {
     "data": {
      "text/html": [
       "<div>\n",
       "<style scoped>\n",
       "    .dataframe tbody tr th:only-of-type {\n",
       "        vertical-align: middle;\n",
       "    }\n",
       "\n",
       "    .dataframe tbody tr th {\n",
       "        vertical-align: top;\n",
       "    }\n",
       "\n",
       "    .dataframe thead th {\n",
       "        text-align: right;\n",
       "    }\n",
       "</style>\n",
       "<table border=\"1\" class=\"dataframe\">\n",
       "  <thead>\n",
       "    <tr style=\"text-align: right;\">\n",
       "      <th></th>\n",
       "      <th>userId</th>\n",
       "      <th>movieId</th>\n",
       "      <th>rating</th>\n",
       "      <th>timestamp</th>\n",
       "    </tr>\n",
       "  </thead>\n",
       "  <tbody>\n",
       "    <tr>\n",
       "      <th>0</th>\n",
       "      <td>1</td>\n",
       "      <td>110</td>\n",
       "      <td>1.0</td>\n",
       "      <td>1425941529</td>\n",
       "    </tr>\n",
       "    <tr>\n",
       "      <th>1</th>\n",
       "      <td>1</td>\n",
       "      <td>147</td>\n",
       "      <td>4.5</td>\n",
       "      <td>1425942435</td>\n",
       "    </tr>\n",
       "    <tr>\n",
       "      <th>2</th>\n",
       "      <td>1</td>\n",
       "      <td>858</td>\n",
       "      <td>5.0</td>\n",
       "      <td>1425941523</td>\n",
       "    </tr>\n",
       "    <tr>\n",
       "      <th>3</th>\n",
       "      <td>1</td>\n",
       "      <td>1221</td>\n",
       "      <td>5.0</td>\n",
       "      <td>1425941546</td>\n",
       "    </tr>\n",
       "    <tr>\n",
       "      <th>4</th>\n",
       "      <td>1</td>\n",
       "      <td>1246</td>\n",
       "      <td>5.0</td>\n",
       "      <td>1425941556</td>\n",
       "    </tr>\n",
       "  </tbody>\n",
       "</table>\n",
       "</div>"
      ],
      "text/plain": [
       "   userId  movieId  rating   timestamp\n",
       "0       1      110     1.0  1425941529\n",
       "1       1      147     4.5  1425942435\n",
       "2       1      858     5.0  1425941523\n",
       "3       1     1221     5.0  1425941546\n",
       "4       1     1246     5.0  1425941556"
      ]
     },
     "execution_count": 28,
     "metadata": {},
     "output_type": "execute_result"
    }
   ],
   "source": [
    "# read the ratings dataset\n",
    "ratings = pd.read_csv(\"ratings.csv\")\n",
    "ratings.head()"
   ]
  },
  {
   "cell_type": "markdown",
   "metadata": {},
   "source": [
    "# Explore data with some basic plots\n",
    "\n",
    "### PLOT #1: Ratings per user."
   ]
  },
  {
   "cell_type": "markdown",
   "metadata": {},
   "source": [
    "Below we present the scatterplot and histogram of ratings number per user.\n",
    "\n",
    "From the scatterplot we can see the number of ratings given per user id."
   ]
  },
  {
   "cell_type": "code",
   "execution_count": 69,
   "metadata": {},
   "outputs": [
    {
     "name": "stdout",
     "output_type": "stream",
     "text": [
      "Min number of user ratings:  1\n",
      "Max number of user ratings:  18276\n"
     ]
    },
    {
     "data": {
      "image/png": "[encoded data removed]",
      "text/plain": [
       "<Figure size 1080x360 with 1 Axes>"
      ]
     },
     "metadata": {
      "needs_background": "light"
     },
     "output_type": "display_data"
    }
   ],
   "source": [
    "# Scatter plot of all users and individual ratings count.\n",
    "df_1 = ratings[['userId', 'movieId']].groupby('userId').count()\n",
    "df_1.columns=['num_ratings']\n",
    "print(\"Min number of user ratings: \",min(df_1.num_ratings))\n",
    "print(\"Max number of user ratings: \",max(df_1.num_ratings))\n",
    "plt.figure(figsize=(15,5))\n",
    "plt.scatter(df_1.index, df_1.num_ratings, edgecolor='black')\n",
    "plt.xlim(0,len(df_1.index))\n",
    "plt.ylim(0,)\n",
    "plt.title('Ratings per user')\n",
    "plt.xlabel('userId')\n",
    "plt.ylabel('Number of ratings given')\n",
    "plt.show()"
   ]
  },
  {
   "cell_type": "markdown",
   "metadata": {},
   "source": [
    "From the histogram we can see the number of user ids that correspond to each number of ratings given."
   ]
  },
  {
   "cell_type": "code",
   "execution_count": 70,
   "metadata": {},
   "outputs": [
    {
     "data": {
      "image/png": "[encoded data removed]",
      "text/plain": [
       "<Figure size 1080x360 with 1 Axes>"
      ]
     },
     "metadata": {
      "needs_background": "light"
     },
     "output_type": "display_data"
    }
   ],
   "source": [
    "# Histogram of ratings counts.\n",
    "plt.figure(figsize=(15,5))\n",
    "plt.hist(df_1.num_ratings, bins=100, edgecolor='black', log=True)\n",
    "plt.title('Ratings per user')\n",
    "plt.xlabel('Number of ratings given')\n",
    "plt.ylabel('Number of userIds')\n",
    "plt.xlim(0,)\n",
    "plt.show()"
   ]
  },
  {
   "cell_type": "markdown",
   "metadata": {},
   "source": [
    "**Conclusions:**\n",
    "\n",
    "As expected, we get an exponentially declining function, with no users with less than 1 rating given, and some outliers with almost 10.0k and 18.27k ratings.\n",
    "\n",
    "**Insight:**\n",
    "These graphs show us how much dedicated are the users to watching and rating movies."
   ]
  },
  {
   "cell_type": "markdown",
   "metadata": {},
   "source": [
    "### PLOT #2: Ratings per movie."
   ]
  },
  {
   "cell_type": "markdown",
   "metadata": {},
   "source": [
    "Below we present the scatterplot and histogram of ratings number per movie.\n",
    "\n",
    "From the scatterplot we can see the number of ratings received per movie id."
   ]
  },
  {
   "cell_type": "code",
   "execution_count": 71,
   "metadata": {
    "scrolled": false
   },
   "outputs": [
    {
     "name": "stdout",
     "output_type": "stream",
     "text": [
      "Mean number of movies' ratings:  576.8433780339134\n"
     ]
    },
    {
     "data": {
      "image/png": "[encoded data removed]",
      "text/plain": [
       "<Figure size 1080x360 with 1 Axes>"
      ]
     },
     "metadata": {
      "needs_background": "light"
     },
     "output_type": "display_data"
    }
   ],
   "source": [
    "# Scatter plot of all users and individual ratings count.\n",
    "df_2 = ratings[['userId', 'movieId']].groupby('movieId').count()\n",
    "df_2.columns=['num_ratings']\n",
    "print(\"Mean number of movies' ratings: \",df_2.num_ratings.mean())\n",
    "plt.figure(figsize=(15,5))\n",
    "plt.scatter(df_2.index, df_2.num_ratings, edgecolor='black')\n",
    "plt.xlim(0,df_2.index.max())\n",
    "plt.ylim(0,)\n",
    "plt.title('Ratings per movie')\n",
    "plt.xlabel('movieId')\n",
    "plt.ylabel('Number of ratings received')\n",
    "plt.show()"
   ]
  },
  {
   "cell_type": "markdown",
   "metadata": {},
   "source": [
    "From the histogram we can see the number of movie ids that correspond to each number of ratings received."
   ]
  },
  {
   "cell_type": "code",
   "execution_count": 72,
   "metadata": {},
   "outputs": [
    {
     "data": {
      "image/png": "[encoded data removed]",
      "text/plain": [
       "<Figure size 1080x360 with 1 Axes>"
      ]
     },
     "metadata": {
      "needs_background": "light"
     },
     "output_type": "display_data"
    }
   ],
   "source": [
    "# Histogram of ratings counts.\n",
    "plt.figure(figsize=(15,5))\n",
    "plt.hist(df_2.num_ratings, bins=100, edgecolor='black', log=True)\n",
    "plt.title('Ratings per movie')\n",
    "plt.xlabel('Number of ratings received')\n",
    "plt.ylabel('Number of movieIds')\n",
    "plt.xlim(0,)\n",
    "plt.show()"
   ]
  },
  {
   "cell_type": "markdown",
   "metadata": {},
   "source": [
    "**Conclusions:**\n",
    "\n",
    "From the above we can realize that most movies had a small number of ratings with a mean number of 576.84 ratings per movie. However, the scatterplot presented, also, some outliers over 60000 ratings.\n",
    "\n",
    "**Insight:** Not many users rate the same movies."
   ]
  },
  {
   "cell_type": "markdown",
   "metadata": {},
   "source": [
    "### PLOT #3: Average ratings per year"
   ]
  },
  {
   "cell_type": "markdown",
   "metadata": {},
   "source": [
    "Let's show the average value of ratings variation in time."
   ]
  },
  {
   "cell_type": "code",
   "execution_count": 73,
   "metadata": {},
   "outputs": [],
   "source": [
    "ratings_df = ratings"
   ]
  },
  {
   "cell_type": "code",
   "execution_count": 74,
   "metadata": {},
   "outputs": [],
   "source": [
    "ratings_df['time_dt'] = ratings_df['timestamp'].apply(lambda x: datetime.datetime.fromtimestamp(x))"
   ]
  },
  {
   "cell_type": "code",
   "execution_count": 75,
   "metadata": {},
   "outputs": [],
   "source": [
    "ratings_df['year'] = ratings_df['time_dt'].dt.year\n",
    "ratings_df['month'] = ratings_df['time_dt'].dt.month\n",
    "ratings_df['day'] = ratings_df['time_dt'].dt.day\n",
    "ratings_df['dayofweek'] = ratings_df['time_dt'].dt.dayofweek"
   ]
  },
  {
   "cell_type": "code",
   "execution_count": 76,
   "metadata": {
    "scrolled": false
   },
   "outputs": [
    {
     "name": "stdout",
     "output_type": "stream",
     "text": [
      "Last year of dataset:  2017\n"
     ]
    },
    {
     "data": {
      "image/png": "[encoded data removed]",
      "text/plain": [
       "<Figure size 720x360 with 1 Axes>"
      ]
     },
     "metadata": {
      "needs_background": "light"
     },
     "output_type": "display_data"
    }
   ],
   "source": [
    "r_df = ratings_df.groupby(['year'])['rating'].mean().reset_index()\n",
    "print(\"Last year of dataset: \",max(ratings_df.year))\n",
    "plt.subplots(ncols=1, figsize=(10,5))\n",
    "plt.plot(r_df['year'],r_df['rating']); plt.xlabel('Year'); plt.ylabel('Average ratings'); plt.title('Average ratings per year')\n",
    "plt.show()"
   ]
  },
  {
   "cell_type": "markdown",
   "metadata": {},
   "source": [
    "**Coclusions:**\n",
    "\n",
    "We are not observing a special behavior other than variation in time of the ratings averages, with a descending trend from almost 1995 to 1996, also with some peaks in 1995, 1997, 1999, 2008 and 2014 and descending trend since 1999 to 2004, followed by an increase until 2008 and afterwards, an ascending trend from 2009 until 2013 to start decreasing again.\n",
    "\n",
    "We can say that between 2008 and 2004 the users were not giving big ratings to the movies they were watching."
   ]
  },
  {
   "cell_type": "markdown",
   "metadata": {},
   "source": [
    "### PLOT #4: Popular Movies"
   ]
  },
  {
   "cell_type": "markdown",
   "metadata": {},
   "source": [
    "From the plot below we can find the 10 most popular movies. As we can see the top 1 is the \"Minions\" movie and the 10th most popular movie is the \"Gone Girl\"."
   ]
  },
  {
   "cell_type": "code",
   "execution_count": 14,
   "metadata": {},
   "outputs": [
    {
     "data": {
      "text/plain": [
       "Text(0.5, 1.0, 'Popular Movies')"
      ]
     },
     "execution_count": 14,
     "metadata": {},
     "output_type": "execute_result"
    },
    {
     "data": {
      "image/png": "[encoded data removed]",
      "text/plain": [
       "<Figure size 720x360 with 1 Axes>"
      ]
     },
     "metadata": {
      "needs_background": "light"
     },
     "output_type": "display_data"
    }
   ],
   "source": [
    "pop= metadata.sort_values('popularity', ascending=False)\n",
    "plt.figure(figsize=(10,5))\n",
    "\n",
    "plt.barh(pop['title'].head(10),pop['popularity'].head(10), align='center',color='purple')\n",
    "plt.gca().invert_yaxis()\n",
    "plt.xlabel(\"Popularity\")\n",
    "plt.title(\"Popular Movies\")"
   ]
  },
  {
   "cell_type": "markdown",
   "metadata": {},
   "source": [
    "### PLOT #5: Most profitable movie genre using 'revenue' and 'genre' information."
   ]
  },
  {
   "cell_type": "markdown",
   "metadata": {},
   "source": [
    "Let's plot the most profitable movie genre using 'revenue' and 'genre' information."
   ]
  },
  {
   "cell_type": "code",
   "execution_count": 15,
   "metadata": {},
   "outputs": [],
   "source": [
    "md = pd.read_csv(\"movies_metadata.csv\", dtype='unicode')\n",
    "# covert each item of release_date to datetime.date type entity\n",
    "md['release_date'] = pd.to_datetime(md['release_date'], errors='coerce').apply(lambda x: x.date())\n",
    "# all json columns`\n",
    "json_cols = ['belongs_to_collection', 'genres', 'production_companies', 'production_countries', 'spoken_languages']\n",
    "for col in json_cols:\n",
    "    # use ast because json data has single quotes in the csv, which is invalid for a json object; it should be \" normally\n",
    "    md[col] = md[col].apply(lambda x: np.nan if pd.isnull(x) else ast.literal_eval(x))"
   ]
  },
  {
   "cell_type": "code",
   "execution_count": 16,
   "metadata": {},
   "outputs": [],
   "source": [
    "revOfGenre = {}\n",
    "\n",
    "for i in range(md.shape[0]):\n",
    "    for j in md['genres'][i]:\n",
    "        if 'name' in j and md.iloc[i]['revenue'] is not np.nan:\n",
    "            name = j['name']\n",
    "            rev = int(md.iloc[i]['revenue'])/1000000 #store the revenue in million dollars\n",
    "            if name in revOfGenre:\n",
    "                revOfGenre[name]['total_revenue'] += rev \n",
    "            else:\n",
    "                revOfGenre[name] = {}\n",
    "                revOfGenre[name]['genre'] = name\n",
    "                revOfGenre[name]['total_revenue'] = rev\n",
    "\n",
    "mostProfitableG = pd.DataFrame(None,None,columns=['genre','revenue'])\n",
    "\n",
    "for k,v in  revOfGenre.items():\n",
    "    mostProfitableG =  mostProfitableG.append({'genre':v['genre'],'revenue':v['total_revenue']},ignore_index=True)"
   ]
  },
  {
   "cell_type": "code",
   "execution_count": 17,
   "metadata": {},
   "outputs": [],
   "source": [
    " mostProfitableG =  mostProfitableG.sort_values(by='revenue',ascending=False) #Sort by 'revenue'"
   ]
  },
  {
   "cell_type": "code",
   "execution_count": 18,
   "metadata": {
    "scrolled": true
   },
   "outputs": [
    {
     "data": {
      "text/html": [
       "<div>\n",
       "<style scoped>\n",
       "    .dataframe tbody tr th:only-of-type {\n",
       "        vertical-align: middle;\n",
       "    }\n",
       "\n",
       "    .dataframe tbody tr th {\n",
       "        vertical-align: top;\n",
       "    }\n",
       "\n",
       "    .dataframe thead th {\n",
       "        text-align: right;\n",
       "    }\n",
       "</style>\n",
       "<table border=\"1\" class=\"dataframe\">\n",
       "  <thead>\n",
       "    <tr style=\"text-align: right;\">\n",
       "      <th></th>\n",
       "      <th>genre</th>\n",
       "      <th>revenue</th>\n",
       "    </tr>\n",
       "  </thead>\n",
       "  <tbody>\n",
       "    <tr>\n",
       "      <th>7</th>\n",
       "      <td>Action</td>\n",
       "      <td>201456.461294</td>\n",
       "    </tr>\n",
       "    <tr>\n",
       "      <th>3</th>\n",
       "      <td>Adventure</td>\n",
       "      <td>200119.343481</td>\n",
       "    </tr>\n",
       "    <tr>\n",
       "      <th>1</th>\n",
       "      <td>Comedy</td>\n",
       "      <td>166897.270043</td>\n",
       "    </tr>\n",
       "    <tr>\n",
       "      <th>6</th>\n",
       "      <td>Drama</td>\n",
       "      <td>160844.199830</td>\n",
       "    </tr>\n",
       "    <tr>\n",
       "      <th>9</th>\n",
       "      <td>Thriller</td>\n",
       "      <td>129821.552609</td>\n",
       "    </tr>\n",
       "  </tbody>\n",
       "</table>\n",
       "</div>"
      ],
      "text/plain": [
       "       genre        revenue\n",
       "7     Action  201456.461294\n",
       "3  Adventure  200119.343481\n",
       "1     Comedy  166897.270043\n",
       "6      Drama  160844.199830\n",
       "9   Thriller  129821.552609"
      ]
     },
     "execution_count": 18,
     "metadata": {},
     "output_type": "execute_result"
    }
   ],
   "source": [
    " mostProfitableG.head()    #Show the first 5 rows"
   ]
  },
  {
   "cell_type": "code",
   "execution_count": 19,
   "metadata": {
    "scrolled": false
   },
   "outputs": [
    {
     "name": "stdout",
     "output_type": "stream",
     "text": [
      "Most profitable movie genre:  201456.461294\n",
      "Less profitable movie genre:  42.0\n"
     ]
    },
    {
     "data": {
      "image/png": "[encoded data removed]",
      "text/plain": [
       "<Figure size 1224x504 with 1 Axes>"
      ]
     },
     "metadata": {
      "needs_background": "light"
     },
     "output_type": "display_data"
    }
   ],
   "source": [
    "#Plot\n",
    "plt.figure(figsize=(17,7))\n",
    "ax = sns.barplot(x= mostProfitableG['genre'], y= mostProfitableG['revenue'], color='#8B3A3A')\n",
    "\n",
    "print(\"Most profitable movie genre: \",max( mostProfitableG['revenue']))\n",
    "print(\"Less profitable movie genre: \",min( mostProfitableG['revenue']))\n",
    "\n",
    "x=ax.set_xlabel(\"Movie Genre\")\n",
    "b=ax.set_ylabel(\"Revenue (in Million Dollars)\")\n",
    "c=ax.set_xticklabels(labels=ax.get_xticklabels(),rotation=30)\n",
    "d=ax.set_title(\"Most Profitable Movies by Genre\")"
   ]
  },
  {
   "cell_type": "markdown",
   "metadata": {},
   "source": [
    "**Conclusions:**\n",
    "\n",
    "The most profitable movies are the action movies with more than 200k million dollars, followed by the adventure movies with very small difference. The least profitable is the TV Movie genre with 42 million dolars."
   ]
  },
  {
   "cell_type": "markdown",
   "metadata": {},
   "source": [
    "### PLOT #6: Most popular genre in terms of popularity points.\n",
    "\n",
    "We can also plot the most popular genre in terms of popularity points."
   ]
  },
  {
   "cell_type": "code",
   "execution_count": 20,
   "metadata": {},
   "outputs": [],
   "source": [
    "md.drop(md.index[35587],inplace=True)    #This row had to be dropped because it contains invalid values."
   ]
  },
  {
   "cell_type": "code",
   "execution_count": 21,
   "metadata": {},
   "outputs": [],
   "source": [
    "popularityOfGenre = {}\n",
    "\n",
    "for i,_ in md.iterrows():\n",
    "    for j in md['genres'][i]:\n",
    "        if 'name' in j and md.iloc[i]['popularity'] is not np.nan:\n",
    "            name = j['name']\n",
    "            pop = float(md.iloc[i]['popularity'])\n",
    "            if name in popularityOfGenre:\n",
    "                popularityOfGenre[name]['total_popularity_points'] += pop \n",
    "                popularityOfGenre[name]['total_popularity_counts'] += 1\n",
    "            else:\n",
    "                popularityOfGenre[name] = {}\n",
    "                popularityOfGenre[name]['genre'] = name\n",
    "                popularityOfGenre[name]['total_popularity_points'] = pop\n",
    "                popularityOfGenre[name]['total_popularity_counts'] = 0\n",
    "\n",
    "mostPopularG = pd.DataFrame(None,None,columns=['genre','average_popularity_points'])\n",
    "\n",
    "for k,v in popularityOfGenre.items():\n",
    "    mostPopularG =  mostPopularG.append({'genre':v['genre'],'average_popularity_points':v['total_popularity_points']/v['total_popularity_counts']},ignore_index=True)"
   ]
  },
  {
   "cell_type": "code",
   "execution_count": 22,
   "metadata": {},
   "outputs": [],
   "source": [
    "mostPopularG = mostPopularG.sort_values(by='average_popularity_points',ascending=False)"
   ]
  },
  {
   "cell_type": "code",
   "execution_count": 23,
   "metadata": {
    "scrolled": false
   },
   "outputs": [
    {
     "name": "stdout",
     "output_type": "stream",
     "text": [
      "Most popularity points:  5.800850367095867\n",
      "Least popularity points:  0.876306290561383\n"
     ]
    },
    {
     "data": {
      "image/png": "[encoded data removed]",
      "text/plain": [
       "<Figure size 1224x504 with 1 Axes>"
      ]
     },
     "metadata": {
      "needs_background": "light"
     },
     "output_type": "display_data"
    }
   ],
   "source": [
    "plt.figure(figsize=(17,7))\n",
    "ax = sns.barplot(x=mostPopularG['genre'],y=mostPopularG['average_popularity_points'],color='#00C78C')\n",
    "\n",
    "print(\"Most popularity points: \",max(mostPopularG['average_popularity_points']))\n",
    "print(\"Least popularity points: \",min(mostPopularG['average_popularity_points']))\n",
    "\n",
    "x=ax.set_xlabel(\"Movie Genre\")\n",
    "b=ax.set_ylabel(\"Average Popularity Points\")\n",
    "c=ax.set_xticklabels(labels=ax.get_xticklabels(),rotation=30)\n",
    "d=ax.set_title(\"Most Popular Movies by Genre\")"
   ]
  },
  {
   "cell_type": "markdown",
   "metadata": {},
   "source": [
    "**Conclusions:**\n",
    "The most popular movie genre in terms of popularity points is the \"Adventure\" genre with 5.8 points and the least popular genre is the \"Foreign\" one with 0.87 points."
   ]
  },
  {
   "cell_type": "markdown",
   "metadata": {},
   "source": [
    "### PLOT #7: Average votes for each movie genre.\n",
    "\n",
    "We can also see average votes for each movie genre."
   ]
  },
  {
   "cell_type": "code",
   "execution_count": 24,
   "metadata": {},
   "outputs": [],
   "source": [
    "averageVotesOfG = {}\n",
    "\n",
    "for i,_ in md.iterrows():\n",
    "    for j in md['genres'][i]:\n",
    "        if 'name' in j and md.iloc[i]['vote_average'] is not np.nan:\n",
    "            name = j['name']\n",
    "            voteAv = float(md.iloc[i]['vote_average'])\n",
    "            if name in averageVotesOfG:\n",
    "                averageVotesOfG[name]['total_votes_points'] += voteAv \n",
    "                averageVotesOfG[name]['total_votes_counts'] += 1\n",
    "            else:\n",
    "                averageVotesOfG[name] = {}\n",
    "                averageVotesOfG[name]['genre'] = name\n",
    "                averageVotesOfG[name]['total_votes_points'] = voteAv\n",
    "                averageVotesOfG[name]['total_votes_counts'] = 1\n",
    "\n",
    "highestVotedG = pd.DataFrame(None,None,columns=['genre','average_votes'])\n",
    "\n",
    "for k,v in averageVotesOfG.items():\n",
    "    highestVotedG =  highestVotedG.append({'genre':v['genre'],'average_votes':v['total_votes_points']/v['total_votes_counts']},ignore_index=True)"
   ]
  },
  {
   "cell_type": "code",
   "execution_count": 25,
   "metadata": {},
   "outputs": [],
   "source": [
    "highestVotedG = highestVotedG.sort_values(by='average_votes',ascending=False)"
   ]
  },
  {
   "cell_type": "code",
   "execution_count": 26,
   "metadata": {
    "scrolled": true
   },
   "outputs": [
    {
     "data": {
      "text/html": [
       "<div>\n",
       "<style scoped>\n",
       "    .dataframe tbody tr th:only-of-type {\n",
       "        vertical-align: middle;\n",
       "    }\n",
       "\n",
       "    .dataframe tbody tr th {\n",
       "        vertical-align: top;\n",
       "    }\n",
       "\n",
       "    .dataframe thead th {\n",
       "        text-align: right;\n",
       "    }\n",
       "</style>\n",
       "<table border=\"1\" class=\"dataframe\">\n",
       "  <thead>\n",
       "    <tr style=\"text-align: right;\">\n",
       "      <th></th>\n",
       "      <th>genre</th>\n",
       "      <th>average_votes</th>\n",
       "    </tr>\n",
       "  </thead>\n",
       "  <tbody>\n",
       "    <tr>\n",
       "      <th>0</th>\n",
       "      <td>Animation</td>\n",
       "      <td>6.060858</td>\n",
       "    </tr>\n",
       "    <tr>\n",
       "      <th>11</th>\n",
       "      <td>History</td>\n",
       "      <td>6.033047</td>\n",
       "    </tr>\n",
       "    <tr>\n",
       "      <th>14</th>\n",
       "      <td>War</td>\n",
       "      <td>5.974225</td>\n",
       "    </tr>\n",
       "    <tr>\n",
       "      <th>6</th>\n",
       "      <td>Drama</td>\n",
       "      <td>5.868718</td>\n",
       "    </tr>\n",
       "    <tr>\n",
       "      <th>8</th>\n",
       "      <td>Crime</td>\n",
       "      <td>5.864801</td>\n",
       "    </tr>\n",
       "  </tbody>\n",
       "</table>\n",
       "</div>"
      ],
      "text/plain": [
       "        genre  average_votes\n",
       "0   Animation       6.060858\n",
       "11    History       6.033047\n",
       "14        War       5.974225\n",
       "6       Drama       5.868718\n",
       "8       Crime       5.864801"
      ]
     },
     "execution_count": 26,
     "metadata": {},
     "output_type": "execute_result"
    }
   ],
   "source": [
    "highestVotedG.head()"
   ]
  },
  {
   "cell_type": "code",
   "execution_count": 27,
   "metadata": {},
   "outputs": [
    {
     "name": "stdout",
     "output_type": "stream",
     "text": [
      "Highest vote_average:  6.060858324715603\n",
      "Smallest vore_average:  5.229373368146218\n"
     ]
    },
    {
     "data": {
      "image/png": "[encoded data removed]",
      "text/plain": [
       "<Figure size 1224x504 with 1 Axes>"
      ]
     },
     "metadata": {
      "needs_background": "light"
     },
     "output_type": "display_data"
    }
   ],
   "source": [
    "plt.figure(figsize=(17,7))\n",
    "ax = sns.barplot(x=highestVotedG['genre'], y=highestVotedG['average_votes'], color='#CD6889')\n",
    "\n",
    "print(\"Highest vote_average: \",max(highestVotedG['average_votes']))\n",
    "print(\"Smallest vore_average: \",min(highestVotedG['average_votes']))\n",
    "\n",
    "x=ax.set_xlabel(\"Movie Genre\")\n",
    "b=ax.set_ylabel(\"Votes Average\")\n",
    "c=ax.set_xticklabels(labels=ax.get_xticklabels(),rotation=30)\n",
    "d=ax.set_title(\"Highest Voted Genre\")"
   ]
  },
  {
   "cell_type": "markdown",
   "metadata": {},
   "source": [
    "**Conclusions:**\n",
    "\n",
    "The highest voted genre is the \"Animation\" genre with 6.06 in average and the least voted one is the \"TV Movie\" genre with 5.22 in average. Although, the \"Adventure\" and the \"Action\" were the most profitable movie genres and at the top 4 most popular genres, it seems that are not highly voted by the users. "
   ]
  },
  {
   "cell_type": "markdown",
   "metadata": {},
   "source": [
    "# Correlation"
   ]
  },
  {
   "cell_type": "markdown",
   "metadata": {},
   "source": [
    "#### Correlation Map"
   ]
  },
  {
   "cell_type": "code",
   "execution_count": 93,
   "metadata": {
    "scrolled": false
   },
   "outputs": [
    {
     "data": {
      "image/png": "[encoded data removed]",
      "text/plain": [
       "<Figure size 720x720 with 2 Axes>"
      ]
     },
     "metadata": {
      "needs_background": "light"
     },
     "output_type": "display_data"
    }
   ],
   "source": [
    "f,ax = plt.subplots(figsize=(10, 10))\n",
    "sns.heatmap(metadata.corr(), annot=True, linewidths=.5, fmt= '.1f',ax=ax)\n",
    "plt.show()"
   ]
  },
  {
   "cell_type": "markdown",
   "metadata": {},
   "source": [
    "**Conclusions:**\n",
    "\n",
    "We can see that popularity, revenue and vote_count are correlated. But vote_average is not correlated with them, meaning that the popularity of the movies can result to higher revenue and number of votes but that does not mean that it drives their ratings up."
   ]
  },
  {
   "cell_type": "markdown",
   "metadata": {},
   "source": [
    "# Statistical Modelling: Hypothesis Testing"
   ]
  },
  {
   "cell_type": "code",
   "execution_count": 19,
   "metadata": {},
   "outputs": [],
   "source": [
    "ratings_stats = ratings"
   ]
  },
  {
   "cell_type": "markdown",
   "metadata": {},
   "source": [
    "#### Choose two sequel movies and take the ratings by users that had rated both the movies\n",
    "\n",
    "We chose two sequel movies, \"Robocop\" and \"Robocop 2\", and we get 23 ratings by the users that rated both of them. Our goal was to observe if there is a significant difference between the two samples, regarding their ratings by the same users."
   ]
  },
  {
   "cell_type": "code",
   "execution_count": 20,
   "metadata": {
    "scrolled": false
   },
   "outputs": [
    {
     "data": {
      "text/html": [
       "<div>\n",
       "<style scoped>\n",
       "    .dataframe tbody tr th:only-of-type {\n",
       "        vertical-align: middle;\n",
       "    }\n",
       "\n",
       "    .dataframe tbody tr th {\n",
       "        vertical-align: top;\n",
       "    }\n",
       "\n",
       "    .dataframe thead th {\n",
       "        text-align: right;\n",
       "    }\n",
       "</style>\n",
       "<table border=\"1\" class=\"dataframe\">\n",
       "  <thead>\n",
       "    <tr style=\"text-align: right;\">\n",
       "      <th></th>\n",
       "      <th>userId</th>\n",
       "      <th>movieId_x</th>\n",
       "      <th>rating_x</th>\n",
       "      <th>movieId_y</th>\n",
       "      <th>rating_y</th>\n",
       "    </tr>\n",
       "  </thead>\n",
       "  <tbody>\n",
       "    <tr>\n",
       "      <th>0</th>\n",
       "      <td>772</td>\n",
       "      <td>5549</td>\n",
       "      <td>4.0</td>\n",
       "      <td>5550</td>\n",
       "      <td>3.0</td>\n",
       "    </tr>\n",
       "    <tr>\n",
       "      <th>1</th>\n",
       "      <td>2372</td>\n",
       "      <td>5549</td>\n",
       "      <td>0.5</td>\n",
       "      <td>5550</td>\n",
       "      <td>0.5</td>\n",
       "    </tr>\n",
       "    <tr>\n",
       "      <th>2</th>\n",
       "      <td>8659</td>\n",
       "      <td>5549</td>\n",
       "      <td>3.0</td>\n",
       "      <td>5550</td>\n",
       "      <td>3.0</td>\n",
       "    </tr>\n",
       "    <tr>\n",
       "      <th>3</th>\n",
       "      <td>20853</td>\n",
       "      <td>5549</td>\n",
       "      <td>4.0</td>\n",
       "      <td>5550</td>\n",
       "      <td>3.0</td>\n",
       "    </tr>\n",
       "    <tr>\n",
       "      <th>4</th>\n",
       "      <td>40576</td>\n",
       "      <td>5549</td>\n",
       "      <td>3.5</td>\n",
       "      <td>5550</td>\n",
       "      <td>3.0</td>\n",
       "    </tr>\n",
       "    <tr>\n",
       "      <th>5</th>\n",
       "      <td>46156</td>\n",
       "      <td>5549</td>\n",
       "      <td>3.0</td>\n",
       "      <td>5550</td>\n",
       "      <td>3.0</td>\n",
       "    </tr>\n",
       "    <tr>\n",
       "      <th>6</th>\n",
       "      <td>56400</td>\n",
       "      <td>5549</td>\n",
       "      <td>2.5</td>\n",
       "      <td>5550</td>\n",
       "      <td>2.5</td>\n",
       "    </tr>\n",
       "    <tr>\n",
       "      <th>7</th>\n",
       "      <td>68586</td>\n",
       "      <td>5549</td>\n",
       "      <td>2.5</td>\n",
       "      <td>5550</td>\n",
       "      <td>2.5</td>\n",
       "    </tr>\n",
       "    <tr>\n",
       "      <th>8</th>\n",
       "      <td>73712</td>\n",
       "      <td>5549</td>\n",
       "      <td>3.0</td>\n",
       "      <td>5550</td>\n",
       "      <td>4.0</td>\n",
       "    </tr>\n",
       "    <tr>\n",
       "      <th>9</th>\n",
       "      <td>78340</td>\n",
       "      <td>5549</td>\n",
       "      <td>2.5</td>\n",
       "      <td>5550</td>\n",
       "      <td>2.5</td>\n",
       "    </tr>\n",
       "    <tr>\n",
       "      <th>10</th>\n",
       "      <td>79299</td>\n",
       "      <td>5549</td>\n",
       "      <td>3.5</td>\n",
       "      <td>5550</td>\n",
       "      <td>3.0</td>\n",
       "    </tr>\n",
       "    <tr>\n",
       "      <th>11</th>\n",
       "      <td>83252</td>\n",
       "      <td>5549</td>\n",
       "      <td>2.0</td>\n",
       "      <td>5550</td>\n",
       "      <td>3.0</td>\n",
       "    </tr>\n",
       "    <tr>\n",
       "      <th>12</th>\n",
       "      <td>86161</td>\n",
       "      <td>5549</td>\n",
       "      <td>4.0</td>\n",
       "      <td>5550</td>\n",
       "      <td>3.5</td>\n",
       "    </tr>\n",
       "    <tr>\n",
       "      <th>13</th>\n",
       "      <td>107720</td>\n",
       "      <td>5549</td>\n",
       "      <td>2.0</td>\n",
       "      <td>5550</td>\n",
       "      <td>1.0</td>\n",
       "    </tr>\n",
       "    <tr>\n",
       "      <th>14</th>\n",
       "      <td>118638</td>\n",
       "      <td>5549</td>\n",
       "      <td>3.0</td>\n",
       "      <td>5550</td>\n",
       "      <td>2.0</td>\n",
       "    </tr>\n",
       "    <tr>\n",
       "      <th>15</th>\n",
       "      <td>149103</td>\n",
       "      <td>5549</td>\n",
       "      <td>1.0</td>\n",
       "      <td>5550</td>\n",
       "      <td>0.5</td>\n",
       "    </tr>\n",
       "    <tr>\n",
       "      <th>16</th>\n",
       "      <td>153362</td>\n",
       "      <td>5549</td>\n",
       "      <td>1.0</td>\n",
       "      <td>5550</td>\n",
       "      <td>1.0</td>\n",
       "    </tr>\n",
       "    <tr>\n",
       "      <th>17</th>\n",
       "      <td>162974</td>\n",
       "      <td>5549</td>\n",
       "      <td>2.0</td>\n",
       "      <td>5550</td>\n",
       "      <td>2.0</td>\n",
       "    </tr>\n",
       "    <tr>\n",
       "      <th>18</th>\n",
       "      <td>175794</td>\n",
       "      <td>5549</td>\n",
       "      <td>2.0</td>\n",
       "      <td>5550</td>\n",
       "      <td>3.0</td>\n",
       "    </tr>\n",
       "    <tr>\n",
       "      <th>19</th>\n",
       "      <td>179792</td>\n",
       "      <td>5549</td>\n",
       "      <td>2.5</td>\n",
       "      <td>5550</td>\n",
       "      <td>2.5</td>\n",
       "    </tr>\n",
       "    <tr>\n",
       "      <th>20</th>\n",
       "      <td>182690</td>\n",
       "      <td>5549</td>\n",
       "      <td>3.0</td>\n",
       "      <td>5550</td>\n",
       "      <td>2.0</td>\n",
       "    </tr>\n",
       "    <tr>\n",
       "      <th>21</th>\n",
       "      <td>208565</td>\n",
       "      <td>5549</td>\n",
       "      <td>4.5</td>\n",
       "      <td>5550</td>\n",
       "      <td>3.5</td>\n",
       "    </tr>\n",
       "    <tr>\n",
       "      <th>22</th>\n",
       "      <td>265327</td>\n",
       "      <td>5549</td>\n",
       "      <td>2.5</td>\n",
       "      <td>5550</td>\n",
       "      <td>2.5</td>\n",
       "    </tr>\n",
       "    <tr>\n",
       "      <th>23</th>\n",
       "      <td>269621</td>\n",
       "      <td>5549</td>\n",
       "      <td>3.0</td>\n",
       "      <td>5550</td>\n",
       "      <td>4.0</td>\n",
       "    </tr>\n",
       "  </tbody>\n",
       "</table>\n",
       "</div>"
      ],
      "text/plain": [
       "    userId  movieId_x  rating_x  movieId_y  rating_y\n",
       "0      772       5549       4.0       5550       3.0\n",
       "1     2372       5549       0.5       5550       0.5\n",
       "2     8659       5549       3.0       5550       3.0\n",
       "3    20853       5549       4.0       5550       3.0\n",
       "4    40576       5549       3.5       5550       3.0\n",
       "5    46156       5549       3.0       5550       3.0\n",
       "6    56400       5549       2.5       5550       2.5\n",
       "7    68586       5549       2.5       5550       2.5\n",
       "8    73712       5549       3.0       5550       4.0\n",
       "9    78340       5549       2.5       5550       2.5\n",
       "10   79299       5549       3.5       5550       3.0\n",
       "11   83252       5549       2.0       5550       3.0\n",
       "12   86161       5549       4.0       5550       3.5\n",
       "13  107720       5549       2.0       5550       1.0\n",
       "14  118638       5549       3.0       5550       2.0\n",
       "15  149103       5549       1.0       5550       0.5\n",
       "16  153362       5549       1.0       5550       1.0\n",
       "17  162974       5549       2.0       5550       2.0\n",
       "18  175794       5549       2.0       5550       3.0\n",
       "19  179792       5549       2.5       5550       2.5\n",
       "20  182690       5549       3.0       5550       2.0\n",
       "21  208565       5549       4.5       5550       3.5\n",
       "22  265327       5549       2.5       5550       2.5\n",
       "23  269621       5549       3.0       5550       4.0"
      ]
     },
     "execution_count": 20,
     "metadata": {},
     "output_type": "execute_result"
    }
   ],
   "source": [
    "r1 = ratings_stats.loc[ratings_stats['movieId'] == 5549]    # select the 'Robocop' movie\n",
    "r2 = ratings_stats.loc[ratings_stats['movieId'] == 5550]    # select the 'Robocop 2' movie\n",
    "r = pd.merge(r1, r2, on='userId')    # merge the two dataframes in one\n",
    "r = r[['userId','movieId_x','rating_x','movieId_y','rating_y']]\n",
    "r"
   ]
  },
  {
   "cell_type": "markdown",
   "metadata": {},
   "source": [
    "#### Present histogram graph for both samples \n",
    "\n",
    "Below we present the histograms for the \"Robocop\" and the \"Robocop 2\" samples."
   ]
  },
  {
   "cell_type": "code",
   "execution_count": 21,
   "metadata": {},
   "outputs": [
    {
     "data": {
      "image/png": "[encoded data removed]",
      "text/plain": [
       "<Figure size 1296x576 with 1 Axes>"
      ]
     },
     "metadata": {
      "needs_background": "light"
     },
     "output_type": "display_data"
    }
   ],
   "source": [
    "n1 = len(r.rating_x.index)\n",
    "h1 = r.hist(column='rating_x',align='mid', bins= 20, grid=False, figsize=(18,8),color='#2BD5E1', zorder=2, rwidth=1)\n",
    "h1 = h1[0]\n",
    "\n",
    "for x1 in h1:\n",
    "    \n",
    "    # Despine\n",
    "    x1.spines['right'].set_visible(False)\n",
    "    x1.spines['top'].set_visible(False)\n",
    "    x1.spines['left'].set_visible(False)\n",
    "    \n",
    "    # Draw horizontal axis lines\n",
    "    vals1 = x1.get_yticks()\n",
    "    for tick1 in vals1:\n",
    "        x1.axhline(y=tick1, linestyle='dashed', alpha=0.4, color='#eeeeee', zorder=1)\n",
    "    # Set title\n",
    "    x1.set_title(\"HISTOGRAM GRAPH of 'Robocop'\")\n",
    "    \n",
    "    # Set x-axis label\n",
    "    x1.set_xlabel(\"Rating\", labelpad=20, weight='bold', size=20)\n",
    "\n",
    "    # Set y-axis label\n",
    "    x1.set_ylabel(\"Number of votes\", labelpad=20, weight='bold', size=20)\n"
   ]
  },
  {
   "cell_type": "code",
   "execution_count": 22,
   "metadata": {},
   "outputs": [
    {
     "data": {
      "image/png": "[encoded data removed]",
      "text/plain": [
       "<Figure size 1296x576 with 1 Axes>"
      ]
     },
     "metadata": {
      "needs_background": "light"
     },
     "output_type": "display_data"
    }
   ],
   "source": [
    "n1 = len(r.rating_y.index)\n",
    "h1 = r.hist(column='rating_y',align='right', bins= 20, grid=False, figsize=(18,8),color='#D748A9', zorder=2, rwidth=1)\n",
    "h1 = h1[0]\n",
    "\n",
    "for x1 in h1:\n",
    "\n",
    "    # Despine\n",
    "    x1.spines['right'].set_visible(False)\n",
    "    x1.spines['top'].set_visible(False)\n",
    "    x1.spines['left'].set_visible(False)\n",
    "    \n",
    "    # Draw horizontal axis lines\n",
    "    vals1 = x1.get_yticks()\n",
    "    for tick1 in vals1:\n",
    "        x1.axhline(y=tick1, linestyle='dashed', alpha=0.4, color='#eeeeee', zorder=1)\n",
    "    # Set title\n",
    "    x1.set_title(\"HISTOGRAM GRAPH of 'Robocop 2'\")\n",
    "    \n",
    "    # Set x-axis label\n",
    "    x1.set_xlabel(\"Rating\", labelpad=20, weight='bold', size=20)\n",
    "\n",
    "    # Set y-axis label\n",
    "    x1.set_ylabel(\"Number of votes\", labelpad=20, weight='bold', size=20)\n"
   ]
  },
  {
   "cell_type": "markdown",
   "metadata": {},
   "source": [
    "We can observe that the distribution of the graphs that the first graph seems normal whereas the second one does not seem normal. So, we can expect that the second graph will not conform to the normality criterion check below."
   ]
  },
  {
   "cell_type": "markdown",
   "metadata": {},
   "source": [
    "#### Exploring the correlation between the two samples and presenting scatterplot graph"
   ]
  },
  {
   "cell_type": "code",
   "execution_count": 23,
   "metadata": {},
   "outputs": [
    {
     "name": "stdout",
     "output_type": "stream",
     "text": [
      "\n",
      "                  PEARSON CORRELATION BETWEEN SAMPLES\n",
      "----------------------------------------------------------------------------\n",
      "\n",
      "Correlation coefficient r =  0.7688113035094101\n",
      "\n",
      "\n",
      "\n",
      "\n",
      "              userId  movieId_x  rating_x  movieId_y  rating_y\n",
      "userId     1.000000        NaN -0.092694        NaN  0.032190\n",
      "movieId_x       NaN        NaN       NaN        NaN       NaN\n",
      "rating_x  -0.092694        NaN  1.000000        NaN  0.768811\n",
      "movieId_y       NaN        NaN       NaN        NaN       NaN\n",
      "rating_y   0.032190        NaN  0.768811        NaN  1.000000\n"
     ]
    },
    {
     "data": {
      "image/png": "[encoded data removed]",
      "text/plain": [
       "<Figure size 432x288 with 1 Axes>"
      ]
     },
     "metadata": {
      "needs_background": "light"
     },
     "output_type": "display_data"
    }
   ],
   "source": [
    "print(\"\\n                  PEARSON CORRELATION BETWEEN SAMPLES\")\n",
    "print(\"----------------------------------------------------------------------------\\n\")\n",
    "cor, p = st.pearsonr(r[\"rating_x\"],r[\"rating_y\"])\n",
    "print(\"Correlation coefficient r = \",cor)\n",
    "\n",
    "print(\"\\n\\n\\n\\n\",r.corr())\n",
    "plt.scatter(r[\"rating_x\"],r[\"rating_y\"])\n",
    "plt.xlabel(\"Robocop Votes\")\n",
    "plt.ylabel(\"Robocop 2 Votes\")\n",
    "plt.title(\"SCATTERPLOT GRAPH\")\n",
    "plt.show()"
   ]
  },
  {
   "cell_type": "markdown",
   "metadata": {},
   "source": [
    "In order to explore the correlation between these two samples we used the scipy.stats.pearsonr(x, y) method from which we get that the coefficient between the two samples is positive, meaning that correlation slopes upward, but, it is also strong as well, because the absolute value of the coefficient ≈ 0.77. \n",
    "\n",
    "**Conclusion:** There is a strong and positive correlation between the two samples. "
   ]
  },
  {
   "cell_type": "markdown",
   "metadata": {},
   "source": [
    "Below we will explore whether the two means of the two related samples are significantly different, regarding their ratings by the same users. \n",
    "\n",
    "**IV (Independent Variable):** The movies that the users rated with two conditions: (a) movie \"Robocop\", (b) movie \"Robocop 2\"\n",
    "\n",
    "**DV (Dependent Variable):** The ratings\n",
    "\n",
    "**Population:** 23 users that rated both of the movies\n",
    "\n",
    "**Null hypothesis:** H0 = There is no significant difference in a user's rating for the \"Robocop\" and the \"Robocop 2\" movie.\n",
    "\n",
    "The first step when applying statistical controls is to check the normality and variance criteria"
   ]
  },
  {
   "cell_type": "markdown",
   "metadata": {},
   "source": [
    "**Check data for normality criterion**\n",
    "\n",
    "To test for normality, we applied the Shapiro-Wilk test by calling the scipy stats.shapiro() method.\n",
    "This control tests the null hypothesis that the data was drawn from a normal distribution and returns the test statistic ('W') and the probability ('p')."
   ]
  },
  {
   "cell_type": "code",
   "execution_count": 33,
   "metadata": {},
   "outputs": [
    {
     "name": "stdout",
     "output_type": "stream",
     "text": [
      "Normality control probability p for \"Robocop\":  0.3759\n",
      "Normality control probability p for \"Robocop 2\":  0.0236\n",
      "\n",
      "Conclusion: Since p < 0.05 for one or both of the samples, we can not say that  both of them  conform to the normality criterion\n"
     ]
    }
   ],
   "source": [
    "p1 = round(st.shapiro(r.rating_x.dropna())[1],4)\n",
    "p2 =  round(st.shapiro(r.rating_y.dropna())[1],4)\n",
    "print('Normality control probability p for \"Robocop\": ',p1)\n",
    "print('Normality control probability p for \"Robocop 2\": ',p2)\n",
    "if p1>0.05 and p2>0.05:\n",
    "    print(\"\\nConclusion: Since p > 0.05 for one or both of the samples, we can not say that  both of them  conform to the normality criterion\")\n",
    "else:\n",
    "    print(\"\\nConclusion: Since p < 0.05 for one or both of the samples, we can not say that  both of them  conform to the normality criterion\")"
   ]
  },
  {
   "cell_type": "markdown",
   "metadata": {},
   "source": [
    "**Check data for variance criterion**\n",
    "\n",
    "To test for variance, we apply the Levene test by calling the scipy stats.levene() method.\n",
    "This control tests the null hypothesis that all samples come from populations with equal variances. It returns the test statistic ('W') and the probability ('p')."
   ]
  },
  {
   "cell_type": "code",
   "execution_count": 34,
   "metadata": {},
   "outputs": [
    {
     "name": "stdout",
     "output_type": "stream",
     "text": [
      "Between Group Variance: p = 0.8232011687036676\n",
      "\n",
      "Conclusion: As p > 0.05 the samples conform to the variance criterion\n"
     ]
    }
   ],
   "source": [
    "# Levene variance test for Control and Treatment groups \n",
    "p = st.levene(r.rating_x.dropna(), r.rating_y.dropna())[1]\n",
    "print('Between Group Variance: p =', p)\n",
    "if p>0.05:\n",
    "    print(\"\\nConclusion: As p > 0.05 the samples conform to the variance criterion\")"
   ]
  },
  {
   "cell_type": "markdown",
   "metadata": {},
   "source": [
    "When the normality criterion is violated (samples do not come from normal distributions) then non-parametric statistical control should be applied.\n",
    "\n",
    "Non-parametric statistics are a branch of statistics making no assumptions about the probability distributions of the variables.\n",
    "\n",
    "**Since the normality criterion is rejected, we proceed with the corresponding non-parametric test, the Wilcoxon signed-rank test to check for significant difference between the groups**.\n",
    "\n",
    "Wilcoxon signed-rank test is the non-parametric counterpart of the paired t-test. We apply the Wilcoxon signed-rank test by calling the scipy stats.wilcoxon() method."
   ]
  },
  {
   "cell_type": "code",
   "execution_count": 35,
   "metadata": {},
   "outputs": [
    {
     "name": "stdout",
     "output_type": "stream",
     "text": [
      "Wilcoxon signed-rank test: W =  38.0 ,   p-value =  0.3409812623376832\n",
      "\n",
      "Since p > a (0.05), the null hypothesis is accepted!\n",
      "\"Robocop\" mean =  2.6875 ,  \"Robocop 2 mean\" =  2.5208333333333335\n"
     ]
    }
   ],
   "source": [
    "w , p= st.wilcoxon(r.rating_x.dropna(), r.rating_y.dropna())\n",
    "print(\"Wilcoxon signed-rank test: W = \", w, \",   p-value = \" , p )\n",
    "if p<=0.05:   \n",
    "    print(\"\\nSince p < a (0.05), the null hypothesis is rejected!\")\n",
    "else:\n",
    "    print(\"\\nSince p > a (0.05), the null hypothesis is accepted!\")\n",
    "print(\"\\\"Robocop\\\" mean = \", r.rating_x.dropna().mean(),\",  \\\"Robocop 2 mean\\\" = \",r.rating_y.dropna().mean())"
   ]
  },
  {
   "cell_type": "markdown",
   "metadata": {},
   "source": [
    "**Interpretation of results**\n",
    "\n",
    "The p value returned (0.34) is higher than threshold 'a' (0.05). Thus the null hypothesis is accepted and we argue that \"Robocop\" rating is not significantly different compared to the \"Robocop 2\" rating by the users."
   ]
  },
  {
   "cell_type": "markdown",
   "metadata": {},
   "source": [
    "# Predictive modelling: Regression "
   ]
  },
  {
   "cell_type": "markdown",
   "metadata": {},
   "source": [
    "### Explore whether \"Robocop\" ratings sample is a predictor of \"Robocop 2\" ratings sample"
   ]
  },
  {
   "cell_type": "markdown",
   "metadata": {},
   "source": [
    "#### Implement Regression Model "
   ]
  },
  {
   "cell_type": "code",
   "execution_count": 14,
   "metadata": {},
   "outputs": [
    {
     "name": "stdout",
     "output_type": "stream",
     "text": [
      "Intercept    0.272189\n",
      "x            0.810651\n",
      "dtype: float64\n",
      "                            OLS Regression Results                            \n",
      "==============================================================================\n",
      "Dep. Variable:                      y   R-squared:                       0.694\n",
      "Model:                            OLS   Adj. R-squared:                  0.675\n",
      "Method:                 Least Squares   F-statistic:                     36.31\n",
      "Date:                Sun, 16 Jun 2019   Prob (F-statistic):           1.76e-05\n",
      "Time:                        12:26:01   Log-Likelihood:                -14.768\n",
      "No. Observations:                  18   AIC:                             33.54\n",
      "Df Residuals:                      16   BIC:                             35.32\n",
      "Df Model:                           1                                         \n",
      "Covariance Type:            nonrobust                                         \n",
      "==============================================================================\n",
      "                 coef    std err          t      P>|t|      [0.025      0.975]\n",
      "------------------------------------------------------------------------------\n",
      "Intercept      0.2722      0.377      0.722      0.481      -0.527       1.072\n",
      "x              0.8107      0.135      6.026      0.000       0.525       1.096\n",
      "==============================================================================\n",
      "Omnibus:                        3.056   Durbin-Watson:                   1.410\n",
      "Prob(Omnibus):                  0.217   Jarque-Bera (JB):                1.518\n",
      "Skew:                           0.691   Prob(JB):                        0.468\n",
      "Kurtosis:                       3.336   Cond. No.                         8.56\n",
      "==============================================================================\n",
      "\n",
      "Warnings:\n",
      "[1] Standard Errors assume that the covariance matrix of the errors is correctly specified.\n",
      "\n",
      "Prediction\n",
      "\n",
      "18    1.893491\n",
      "19    2.298817\n",
      "20    2.704142\n",
      "21    3.920118\n",
      "22    2.298817\n",
      "23    2.704142\n",
      "dtype: float64\n"
     ]
    }
   ],
   "source": [
    "# Split data for training [:18] and testing [18:]\n",
    "rob2_train = r['rating_y'].iloc[:18]\n",
    "rob1_train = r['rating_x'].iloc[:18]\n",
    "\n",
    "rob2_test = r['rating_y'].iloc[18:]\n",
    "rob1_test = r['rating_x'].iloc[18:]\n",
    "\n",
    "# Set training data as DataFrame df\n",
    "# Set predictor x as Independent var and Output y as dependent var\n",
    "df = r[['rating_y','rating_x']].iloc[:18]\n",
    "x = rob1_train \n",
    "y = rob2_train \n",
    "\n",
    "# Fit the model \n",
    "model = smf.ols(formula='y ~ x', data=df).fit()\n",
    "\n",
    "# print params and summary \n",
    "print(model.params)\n",
    "print(model.summary())\n",
    "\n",
    "# predict\n",
    "print('\\nPrediction\\n')\n",
    "ypred = model.predict({'x': rob1_test}) \n",
    "print(ypred)"
   ]
  },
  {
   "cell_type": "markdown",
   "metadata": {},
   "source": [
    "Step 1) Analyzing the correlation of the data: We need to examine if there is correlation between \"Robocop\" ratings sample and  \"Robocop 2\" ratings sample. Pearson correlation coefficient is r~0.77. That means that there is a high positive correlation between \"Robocop\" ratings sample and \"Robocop 2\" ratings sample.\n",
    "\n",
    "Step 2) Estimating predictive analysis: We implement linear regression model in order to find out if \"Robocop\" ratings sample is a predictor of \"Robocop 2\" ratings sample. So, the dependent variable is \"Robocop 2\" ratings sample matrix of row-vectors and the independent variable is \"Robocop\" ratings sample matrix of row-vectors. Our dataframe is 23 rows, so we split data in 18 rows of training data and 5 rows of testing data. We fit the linear regression model is our training data and by using the predict method, we compute the predicted values of our test data.\n",
    "\n",
    "Step 3) Evaluating the validity and usefulness of the model: By taking a look at OLS Regression Results summary table R-squared (coefficient of determination) is interpreted as the proportion of the variance in the dependent variable that is predictable from the independent variable and it ranges from 0 to 1. In our case R-squared = 0.69 means fitted model showed ~ 69% reduction in error over null model. At the same time, Prob (F-statistic) is the probability that the relationship between dependent and independent variable is occurring by chance. Prob (F-statistic) = 1.76e-05 implies that there is statistically significant relationship between \"Robocop\" ratings sample and  \"Robocop 2\" ratings sample (using p < 0.05 as a rejection rule).\n",
    "\n",
    "##### Conslusion: \"Robocop\" ratings sample is a predictor of \"Robocop 2\" ratings sample."
   ]
  },
  {
   "cell_type": "markdown",
   "metadata": {},
   "source": [
    "# Top Rated Movies Chart according to IMDB's weighted rating formula\n",
    "\n",
    "The Internet Movie Database (IMDB) maintains a chart called the IMDB Top 250, which is a ranking of the top 250 movies according to a certain weighted rating formula.\n",
    "\n",
    "We will use the TMDB Ratings to come up with a Top Movies Chart. We will use IMDB's weighted rating formula to construct a chart. This formula provides a true 'Bayesian estimate', which takes into account the number of votes each title has received, minimum votes required to be on the list, and the mean vote for all titles \n",
    "\n",
    "Weighted Rating (WR) = (v ÷ (v+m)) × R + (m ÷ (v+m)) × C where, \n",
    "\n",
    "* v is the number of votes for the movie\n",
    "* m is the minimum votes required to be listed in the chart\n",
    "* R is the average rating of the movie\n",
    "* C is the mean vote across the whole report"
   ]
  },
  {
   "cell_type": "code",
   "execution_count": 13,
   "metadata": {},
   "outputs": [
    {
     "data": {
      "text/plain": [
       "5.618168818883486"
      ]
     },
     "execution_count": 13,
     "metadata": {},
     "output_type": "execute_result"
    }
   ],
   "source": [
    "C= metadata['vote_average'].mean()\n",
    "C"
   ]
  },
  {
   "cell_type": "markdown",
   "metadata": {},
   "source": [
    "So, the mean rating for all the movies is approx 6 on a scale of 10.The next step is to determine an appropriate value for m, the minimum votes required to be listed in the chart. We will use 95th percentile as our cutoff. "
   ]
  },
  {
   "cell_type": "code",
   "execution_count": 14,
   "metadata": {},
   "outputs": [
    {
     "data": {
      "text/plain": [
       "433.1999999999971"
      ]
     },
     "execution_count": 14,
     "metadata": {},
     "output_type": "execute_result"
    }
   ],
   "source": [
    "m = metadata['vote_count'].quantile(0.95)\n",
    "m"
   ]
  },
  {
   "cell_type": "code",
   "execution_count": 15,
   "metadata": {},
   "outputs": [
    {
     "data": {
      "text/plain": [
       "(2273, 26)"
      ]
     },
     "execution_count": 15,
     "metadata": {},
     "output_type": "execute_result"
    }
   ],
   "source": [
    "qualified = metadata.copy().loc[metadata['vote_count'] >= m]\n",
    "qualified.shape"
   ]
  },
  {
   "cell_type": "markdown",
   "metadata": {},
   "source": [
    "We see that there are 2273 movies which qualify to be in this list. Now, we need to calculate our metric for each qualified movie. To do this, we will define a function, weighted_rating() and define a new feature wr, of which we'll calculate the value by applying this function to our DataFrame of qualified movies."
   ]
  },
  {
   "cell_type": "code",
   "execution_count": 16,
   "metadata": {},
   "outputs": [],
   "source": [
    "def weighted_rating(x):\n",
    "    v = x['vote_count']\n",
    "    R = x['vote_average']\n",
    "    return (v/(v+m) * R) + (m/(m+v) * C)"
   ]
  },
  {
   "cell_type": "code",
   "execution_count": 17,
   "metadata": {},
   "outputs": [],
   "source": [
    "qualified['wr'] = qualified.apply(weighted_rating, axis=1)\n",
    "qualified = qualified.sort_values('wr', ascending=False).head(250)"
   ]
  },
  {
   "cell_type": "code",
   "execution_count": 18,
   "metadata": {},
   "outputs": [
    {
     "data": {
      "text/html": [
       "<div>\n",
       "<style scoped>\n",
       "    .dataframe tbody tr th:only-of-type {\n",
       "        vertical-align: middle;\n",
       "    }\n",
       "\n",
       "    .dataframe tbody tr th {\n",
       "        vertical-align: top;\n",
       "    }\n",
       "\n",
       "    .dataframe thead th {\n",
       "        text-align: right;\n",
       "    }\n",
       "</style>\n",
       "<table border=\"1\" class=\"dataframe\">\n",
       "  <thead>\n",
       "    <tr style=\"text-align: right;\">\n",
       "      <th></th>\n",
       "      <th>title</th>\n",
       "      <th>vote_count</th>\n",
       "      <th>vote_average</th>\n",
       "      <th>popularity</th>\n",
       "      <th>wr</th>\n",
       "    </tr>\n",
       "  </thead>\n",
       "  <tbody>\n",
       "    <tr>\n",
       "      <th>314</th>\n",
       "      <td>The Shawshank Redemption</td>\n",
       "      <td>8358.0</td>\n",
       "      <td>8.5</td>\n",
       "      <td>51.645403</td>\n",
       "      <td>8.357993</td>\n",
       "    </tr>\n",
       "    <tr>\n",
       "      <th>834</th>\n",
       "      <td>The Godfather</td>\n",
       "      <td>6024.0</td>\n",
       "      <td>8.5</td>\n",
       "      <td>41.109264</td>\n",
       "      <td>8.306664</td>\n",
       "    </tr>\n",
       "    <tr>\n",
       "      <th>12481</th>\n",
       "      <td>The Dark Knight</td>\n",
       "      <td>12269.0</td>\n",
       "      <td>8.3</td>\n",
       "      <td>123.167259</td>\n",
       "      <td>8.208538</td>\n",
       "    </tr>\n",
       "    <tr>\n",
       "      <th>2843</th>\n",
       "      <td>Fight Club</td>\n",
       "      <td>9678.0</td>\n",
       "      <td>8.3</td>\n",
       "      <td>63.869599</td>\n",
       "      <td>8.185101</td>\n",
       "    </tr>\n",
       "    <tr>\n",
       "      <th>292</th>\n",
       "      <td>Pulp Fiction</td>\n",
       "      <td>8670.0</td>\n",
       "      <td>8.3</td>\n",
       "      <td>140.950236</td>\n",
       "      <td>8.172378</td>\n",
       "    </tr>\n",
       "    <tr>\n",
       "      <th>351</th>\n",
       "      <td>Forrest Gump</td>\n",
       "      <td>8147.0</td>\n",
       "      <td>8.2</td>\n",
       "      <td>48.307194</td>\n",
       "      <td>8.069648</td>\n",
       "    </tr>\n",
       "    <tr>\n",
       "      <th>522</th>\n",
       "      <td>Schindler's List</td>\n",
       "      <td>4436.0</td>\n",
       "      <td>8.3</td>\n",
       "      <td>41.725123</td>\n",
       "      <td>8.061404</td>\n",
       "    </tr>\n",
       "    <tr>\n",
       "      <th>23670</th>\n",
       "      <td>Whiplash</td>\n",
       "      <td>4376.0</td>\n",
       "      <td>8.3</td>\n",
       "      <td>64.299990</td>\n",
       "      <td>8.058428</td>\n",
       "    </tr>\n",
       "    <tr>\n",
       "      <th>5481</th>\n",
       "      <td>Spirited Away</td>\n",
       "      <td>3968.0</td>\n",
       "      <td>8.3</td>\n",
       "      <td>41.048867</td>\n",
       "      <td>8.036034</td>\n",
       "    </tr>\n",
       "    <tr>\n",
       "      <th>1154</th>\n",
       "      <td>The Empire Strikes Back</td>\n",
       "      <td>5998.0</td>\n",
       "      <td>8.2</td>\n",
       "      <td>19.470959</td>\n",
       "      <td>8.026090</td>\n",
       "    </tr>\n",
       "  </tbody>\n",
       "</table>\n",
       "</div>"
      ],
      "text/plain": [
       "                          title  vote_count  vote_average  popularity  \\\n",
       "314    The Shawshank Redemption      8358.0           8.5   51.645403   \n",
       "834               The Godfather      6024.0           8.5   41.109264   \n",
       "12481           The Dark Knight     12269.0           8.3  123.167259   \n",
       "2843                 Fight Club      9678.0           8.3   63.869599   \n",
       "292                Pulp Fiction      8670.0           8.3  140.950236   \n",
       "351                Forrest Gump      8147.0           8.2   48.307194   \n",
       "522            Schindler's List      4436.0           8.3   41.725123   \n",
       "23670                  Whiplash      4376.0           8.3   64.299990   \n",
       "5481              Spirited Away      3968.0           8.3   41.048867   \n",
       "1154    The Empire Strikes Back      5998.0           8.2   19.470959   \n",
       "\n",
       "             wr  \n",
       "314    8.357993  \n",
       "834    8.306664  \n",
       "12481  8.208538  \n",
       "2843   8.185101  \n",
       "292    8.172378  \n",
       "351    8.069648  \n",
       "522    8.061404  \n",
       "23670  8.058428  \n",
       "5481   8.036034  \n",
       "1154   8.026090  "
      ]
     },
     "execution_count": 18,
     "metadata": {},
     "output_type": "execute_result"
    }
   ],
   "source": [
    "qualified[['title','vote_count', 'vote_average','popularity', 'wr']].head(10)"
   ]
  },
  {
   "cell_type": "markdown",
   "metadata": {},
   "source": [
    "This chart can be considered the simplest of recommenders. It doesn’t take into consideration the tastes of a particular user nor does it try to deduce similarities between different movies. It simply calculates a score for every movie based on a predefined weighted rating formula and outputs a sorted list of movies based on that formula."
   ]
  },
  {
   "cell_type": "markdown",
   "metadata": {},
   "source": [
    "# Content Based Filtering"
   ]
  },
  {
   "cell_type": "markdown",
   "metadata": {},
   "source": [
    "The Content-Based Recommender relies on the similarity of the items being recommended. The basic idea is that if you like an item, then you will also like a “similar” item. So, this is an engine that computes similarity between movies based on certain metrics and suggests movies that are most similar to a particular movie that a user liked. \n",
    "\n",
    "It generally works well when it's easy to determine the context/properties of each item. Most of the recommendation system works with information in text form such as news, books and documents.\n",
    "\n",
    "The content in this system usually uses keywords and the significance of a keyword is measured by TFIDF weight. It denotes the frequency of occurrence of the keyword in the document where as IDF is inverse document frequency of the keyword.\n",
    "\n",
    "## Content Based Recommender based on Movie Overviews and Taglines"
   ]
  },
  {
   "cell_type": "markdown",
   "metadata": {},
   "source": [
    "We have to just convert the words or text in vector form and to find the closest recommendation to our given movie input title using cosine similarity.\n",
    "\n",
    "#### We will build a recommender using movie descriptions and taglines. "
   ]
  },
  {
   "cell_type": "code",
   "execution_count": 19,
   "metadata": {},
   "outputs": [],
   "source": [
    "metadata['tagline'] = metadata['tagline'].fillna('')\n",
    "metadata['description'] = metadata['overview'] + metadata['tagline']\n",
    "metadata['description'] = metadata['description'].fillna('')"
   ]
  },
  {
   "cell_type": "markdown",
   "metadata": {},
   "source": [
    "#### We define a TF-IDF Vectorizer Object. First, we remove all english stop words such as 'the', 'a'.\n",
    "TF is simply the frequency of a word in a document. IDF is the inverse of the document frequency among the whole corpus of documents. TF-IDF weighting negates the effect of high frequency words in determining the importance of an item (document).\n",
    "\n",
    "We will use TfidfVectorizer function from scikit-learn, which transforms text to feature vectors that can be used as input to estimator."
   ]
  },
  {
   "cell_type": "code",
   "execution_count": 20,
   "metadata": {},
   "outputs": [],
   "source": [
    "tf = TfidfVectorizer(analyzer='word',ngram_range=(1, 2),min_df=0, stop_words='english')\n",
    "tfidf_matrix = tf.fit_transform(metadata['description'])"
   ]
  },
  {
   "cell_type": "markdown",
   "metadata": {},
   "source": [
    "After calculating TF-IDF scores, how do we determine which items are closer to each other, rather closer to the user profile?\n",
    "We need a relative measure.\n",
    "\n",
    "The method of calculating this relative measure is calculated by taking the cosine of the angle between the sentences and the terms. The ultimate reason behind using cosine is that the value of cosine will increase with decreasing value of the angle between which signifies more similarity."
   ]
  },
  {
   "cell_type": "markdown",
   "metadata": {},
   "source": [
    "#### Cosine Similarity\n",
    "\n",
    "We will be using Cosine Similarity to calculate a numeric quantity that denotes the similarity between two movies. Therefore, we will use sklearn's linear_kernel functon."
   ]
  },
  {
   "cell_type": "code",
   "execution_count": 21,
   "metadata": {},
   "outputs": [],
   "source": [
    "cosine_sim = linear_kernel(tfidf_matrix, tfidf_matrix)\n",
    "metadata = metadata.reset_index()\n",
    "titles = metadata['title']\n",
    "indices = pd.Series(metadata.index, index=metadata['title'])"
   ]
  },
  {
   "cell_type": "markdown",
   "metadata": {},
   "source": [
    "We now have a pairwise cosine similarity matrix for all the movies in the dataset. The next step is to write a function that returns the 10 most similar movies based on the cosine similarity score."
   ]
  },
  {
   "cell_type": "markdown",
   "metadata": {},
   "source": [
    "#### Implement a function that returns the 10 most similar movies based on the cosine similarity score."
   ]
  },
  {
   "cell_type": "code",
   "execution_count": 22,
   "metadata": {},
   "outputs": [],
   "source": [
    "def get_recommendations(title):\n",
    "    idx = indices[title]\n",
    "    sim_scores = list(enumerate(cosine_sim[idx]))\n",
    "    sim_scores = sorted(sim_scores, key=lambda x: x[1], reverse=True)\n",
    "    sim_scores = sim_scores[1:11]\n",
    "    movie_indices = [i[0] for i in sim_scores]\n",
    "    recommendations = metadata.iloc[movie_indices][['title', 'vote_average']]\n",
    "    return recommendations"
   ]
  },
  {
   "cell_type": "code",
   "execution_count": 23,
   "metadata": {},
   "outputs": [
    {
     "data": {
      "text/html": [
       "<div>\n",
       "<style scoped>\n",
       "    .dataframe tbody tr th:only-of-type {\n",
       "        vertical-align: middle;\n",
       "    }\n",
       "\n",
       "    .dataframe tbody tr th {\n",
       "        vertical-align: top;\n",
       "    }\n",
       "\n",
       "    .dataframe thead th {\n",
       "        text-align: right;\n",
       "    }\n",
       "</style>\n",
       "<table border=\"1\" class=\"dataframe\">\n",
       "  <thead>\n",
       "    <tr style=\"text-align: right;\">\n",
       "      <th></th>\n",
       "      <th>title</th>\n",
       "      <th>vote_average</th>\n",
       "    </tr>\n",
       "  </thead>\n",
       "  <tbody>\n",
       "    <tr>\n",
       "      <th>25264</th>\n",
       "      <td>Batman vs Dracula</td>\n",
       "      <td>6.5</td>\n",
       "    </tr>\n",
       "    <tr>\n",
       "      <th>15511</th>\n",
       "      <td>Batman: Under the Red Hood</td>\n",
       "      <td>7.6</td>\n",
       "    </tr>\n",
       "    <tr>\n",
       "      <th>21191</th>\n",
       "      <td>Batman Unmasked: The Psychology of the Dark Kn...</td>\n",
       "      <td>8.0</td>\n",
       "    </tr>\n",
       "    <tr>\n",
       "      <th>18252</th>\n",
       "      <td>The Dark Knight Rises</td>\n",
       "      <td>7.6</td>\n",
       "    </tr>\n",
       "    <tr>\n",
       "      <th>41973</th>\n",
       "      <td>Batman Beyond Darwyn Cooke's Batman 75th Anniv...</td>\n",
       "      <td>7.7</td>\n",
       "    </tr>\n",
       "    <tr>\n",
       "      <th>41967</th>\n",
       "      <td>The Lego Batman Movie</td>\n",
       "      <td>7.2</td>\n",
       "    </tr>\n",
       "    <tr>\n",
       "      <th>40965</th>\n",
       "      <td>LEGO DC Comics Super Heroes: Batman: Be-Leaguered</td>\n",
       "      <td>6.1</td>\n",
       "    </tr>\n",
       "    <tr>\n",
       "      <th>40937</th>\n",
       "      <td>Batman: Return of the Caped Crusaders</td>\n",
       "      <td>7.2</td>\n",
       "    </tr>\n",
       "    <tr>\n",
       "      <th>20229</th>\n",
       "      <td>Batman: The Dark Knight Returns, Part 2</td>\n",
       "      <td>7.9</td>\n",
       "    </tr>\n",
       "    <tr>\n",
       "      <th>3095</th>\n",
       "      <td>Batman: Mask of the Phantasm</td>\n",
       "      <td>7.4</td>\n",
       "    </tr>\n",
       "  </tbody>\n",
       "</table>\n",
       "</div>"
      ],
      "text/plain": [
       "                                                   title  vote_average\n",
       "25264                                  Batman vs Dracula           6.5\n",
       "15511                         Batman: Under the Red Hood           7.6\n",
       "21191  Batman Unmasked: The Psychology of the Dark Kn...           8.0\n",
       "18252                              The Dark Knight Rises           7.6\n",
       "41973  Batman Beyond Darwyn Cooke's Batman 75th Anniv...           7.7\n",
       "41967                              The Lego Batman Movie           7.2\n",
       "40965  LEGO DC Comics Super Heroes: Batman: Be-Leaguered           6.1\n",
       "40937              Batman: Return of the Caped Crusaders           7.2\n",
       "20229            Batman: The Dark Knight Returns, Part 2           7.9\n",
       "3095                        Batman: Mask of the Phantasm           7.4"
      ]
     },
     "execution_count": 23,
     "metadata": {},
     "output_type": "execute_result"
    }
   ],
   "source": [
    "get_recommendations('Batman Returns')"
   ]
  },
  {
   "cell_type": "code",
   "execution_count": 24,
   "metadata": {},
   "outputs": [
    {
     "data": {
      "text/html": [
       "<div>\n",
       "<style scoped>\n",
       "    .dataframe tbody tr th:only-of-type {\n",
       "        vertical-align: middle;\n",
       "    }\n",
       "\n",
       "    .dataframe tbody tr th {\n",
       "        vertical-align: top;\n",
       "    }\n",
       "\n",
       "    .dataframe thead th {\n",
       "        text-align: right;\n",
       "    }\n",
       "</style>\n",
       "<table border=\"1\" class=\"dataframe\">\n",
       "  <thead>\n",
       "    <tr style=\"text-align: right;\">\n",
       "      <th></th>\n",
       "      <th>title</th>\n",
       "      <th>vote_average</th>\n",
       "    </tr>\n",
       "  </thead>\n",
       "  <tbody>\n",
       "    <tr>\n",
       "      <th>32244</th>\n",
       "      <td>Atom Man vs Superman</td>\n",
       "      <td>3.8</td>\n",
       "    </tr>\n",
       "    <tr>\n",
       "      <th>2529</th>\n",
       "      <td>Superman IV: The Quest for Peace</td>\n",
       "      <td>4.1</td>\n",
       "    </tr>\n",
       "    <tr>\n",
       "      <th>2527</th>\n",
       "      <td>Superman II</td>\n",
       "      <td>6.5</td>\n",
       "    </tr>\n",
       "    <tr>\n",
       "      <th>30817</th>\n",
       "      <td>Superman: Brainiac Attacks</td>\n",
       "      <td>6.1</td>\n",
       "    </tr>\n",
       "    <tr>\n",
       "      <th>16626</th>\n",
       "      <td>All Star Superman</td>\n",
       "      <td>6.8</td>\n",
       "    </tr>\n",
       "    <tr>\n",
       "      <th>9169</th>\n",
       "      <td>The Batman Superman Movie: World's Finest</td>\n",
       "      <td>7.1</td>\n",
       "    </tr>\n",
       "    <tr>\n",
       "      <th>19063</th>\n",
       "      <td>Superman/Batman: Public Enemies</td>\n",
       "      <td>6.7</td>\n",
       "    </tr>\n",
       "    <tr>\n",
       "      <th>21121</th>\n",
       "      <td>Lego Batman: The Movie - DC Super Heroes Unite</td>\n",
       "      <td>6.4</td>\n",
       "    </tr>\n",
       "    <tr>\n",
       "      <th>2526</th>\n",
       "      <td>Superman</td>\n",
       "      <td>6.9</td>\n",
       "    </tr>\n",
       "    <tr>\n",
       "      <th>24560</th>\n",
       "      <td>Generation War</td>\n",
       "      <td>8.2</td>\n",
       "    </tr>\n",
       "  </tbody>\n",
       "</table>\n",
       "</div>"
      ],
      "text/plain": [
       "                                                title  vote_average\n",
       "32244                            Atom Man vs Superman           3.8\n",
       "2529                 Superman IV: The Quest for Peace           4.1\n",
       "2527                                      Superman II           6.5\n",
       "30817                      Superman: Brainiac Attacks           6.1\n",
       "16626                               All Star Superman           6.8\n",
       "9169        The Batman Superman Movie: World's Finest           7.1\n",
       "19063                 Superman/Batman: Public Enemies           6.7\n",
       "21121  Lego Batman: The Movie - DC Super Heroes Unite           6.4\n",
       "2526                                         Superman           6.9\n",
       "24560                                  Generation War           8.2"
      ]
     },
     "execution_count": 24,
     "metadata": {},
     "output_type": "execute_result"
    }
   ],
   "source": [
    "get_recommendations('Superman Returns')"
   ]
  },
  {
   "cell_type": "markdown",
   "metadata": {},
   "source": [
    "## Content Based Recommender based on Movie Overviews, Taglines and Ratings as well\n",
    "One thing that we notice about our recommendation system is that it recommends movies regardless of ratings and popularity. Therefore, we will add a mechanism to remove bad movies and return movies with high vote count and high vote average.\n",
    "\n",
    "We will take the top 25 movies based on similarity scores and calculate the vote of the 60th percentile movie. Then, using this as the value of  m, we will calculate the weighted rating of each movie."
   ]
  },
  {
   "cell_type": "code",
   "execution_count": 25,
   "metadata": {},
   "outputs": [],
   "source": [
    "def get_recommendations(title):\n",
    "    idx = indices[title]\n",
    "    sim_scores = list(enumerate(cosine_sim[idx]))\n",
    "    sim_scores = sorted(sim_scores, key=lambda x: x[1], reverse=True)\n",
    "    sim_scores = sim_scores[1:26]\n",
    "    movie_indices = [i[0] for i in sim_scores]\n",
    "    \n",
    "    movies = metadata.iloc[movie_indices][['title', 'vote_count', 'vote_average']]\n",
    "    vote_counts = movies[movies['vote_count'].notnull()]['vote_count'].astype('int')\n",
    "    vote_averages = movies[movies['vote_average'].notnull()]['vote_average'].astype('int')\n",
    "    C = vote_averages.mean()\n",
    "    m = vote_counts.quantile(0.60)\n",
    "    recommendations = movies[(movies['vote_count'] >= m) & (movies['vote_count'].notnull()) & (movies['vote_average'].notnull())]\n",
    "    recommendations['vote_count'] = recommendations['vote_count'].astype('int')\n",
    "    recommendations['vote_average'] = recommendations['vote_average']\n",
    "    recommendations['wr'] = recommendations.apply(weighted_rating, axis=1)\n",
    "    recommendations = recommendations.sort_values('wr', ascending=False).head(10)\n",
    "    return recommendations"
   ]
  },
  {
   "cell_type": "code",
   "execution_count": 26,
   "metadata": {},
   "outputs": [
    {
     "data": {
      "text/html": [
       "<div>\n",
       "<style scoped>\n",
       "    .dataframe tbody tr th:only-of-type {\n",
       "        vertical-align: middle;\n",
       "    }\n",
       "\n",
       "    .dataframe tbody tr th {\n",
       "        vertical-align: top;\n",
       "    }\n",
       "\n",
       "    .dataframe thead th {\n",
       "        text-align: right;\n",
       "    }\n",
       "</style>\n",
       "<table border=\"1\" class=\"dataframe\">\n",
       "  <thead>\n",
       "    <tr style=\"text-align: right;\">\n",
       "      <th></th>\n",
       "      <th>title</th>\n",
       "      <th>vote_count</th>\n",
       "      <th>vote_average</th>\n",
       "      <th>wr</th>\n",
       "    </tr>\n",
       "  </thead>\n",
       "  <tbody>\n",
       "    <tr>\n",
       "      <th>12481</th>\n",
       "      <td>The Dark Knight</td>\n",
       "      <td>12269</td>\n",
       "      <td>8.3</td>\n",
       "      <td>8.208538</td>\n",
       "    </tr>\n",
       "    <tr>\n",
       "      <th>18252</th>\n",
       "      <td>The Dark Knight Rises</td>\n",
       "      <td>9263</td>\n",
       "      <td>7.6</td>\n",
       "      <td>7.511457</td>\n",
       "    </tr>\n",
       "    <tr>\n",
       "      <th>41967</th>\n",
       "      <td>The Lego Batman Movie</td>\n",
       "      <td>1473</td>\n",
       "      <td>7.2</td>\n",
       "      <td>6.840516</td>\n",
       "    </tr>\n",
       "    <tr>\n",
       "      <th>20229</th>\n",
       "      <td>Batman: The Dark Knight Returns, Part 2</td>\n",
       "      <td>426</td>\n",
       "      <td>7.9</td>\n",
       "      <td>6.749524</td>\n",
       "    </tr>\n",
       "    <tr>\n",
       "      <th>15511</th>\n",
       "      <td>Batman: Under the Red Hood</td>\n",
       "      <td>459</td>\n",
       "      <td>7.6</td>\n",
       "      <td>6.637739</td>\n",
       "    </tr>\n",
       "    <tr>\n",
       "      <th>19789</th>\n",
       "      <td>Batman: The Dark Knight Returns, Part 1</td>\n",
       "      <td>410</td>\n",
       "      <td>7.7</td>\n",
       "      <td>6.630444</td>\n",
       "    </tr>\n",
       "    <tr>\n",
       "      <th>1110</th>\n",
       "      <td>The Wrong Trousers</td>\n",
       "      <td>266</td>\n",
       "      <td>7.6</td>\n",
       "      <td>6.372126</td>\n",
       "    </tr>\n",
       "    <tr>\n",
       "      <th>23875</th>\n",
       "      <td>Batman: Assault on Arkham</td>\n",
       "      <td>298</td>\n",
       "      <td>7.3</td>\n",
       "      <td>6.303598</td>\n",
       "    </tr>\n",
       "    <tr>\n",
       "      <th>18218</th>\n",
       "      <td>Happy Feet Two</td>\n",
       "      <td>381</td>\n",
       "      <td>5.8</td>\n",
       "      <td>5.703256</td>\n",
       "    </tr>\n",
       "    <tr>\n",
       "      <th>150</th>\n",
       "      <td>Batman Forever</td>\n",
       "      <td>1529</td>\n",
       "      <td>5.2</td>\n",
       "      <td>5.292320</td>\n",
       "    </tr>\n",
       "  </tbody>\n",
       "</table>\n",
       "</div>"
      ],
      "text/plain": [
       "                                         title  vote_count  vote_average  \\\n",
       "12481                          The Dark Knight       12269           8.3   \n",
       "18252                    The Dark Knight Rises        9263           7.6   \n",
       "41967                    The Lego Batman Movie        1473           7.2   \n",
       "20229  Batman: The Dark Knight Returns, Part 2         426           7.9   \n",
       "15511               Batman: Under the Red Hood         459           7.6   \n",
       "19789  Batman: The Dark Knight Returns, Part 1         410           7.7   \n",
       "1110                        The Wrong Trousers         266           7.6   \n",
       "23875                Batman: Assault on Arkham         298           7.3   \n",
       "18218                           Happy Feet Two         381           5.8   \n",
       "150                             Batman Forever        1529           5.2   \n",
       "\n",
       "             wr  \n",
       "12481  8.208538  \n",
       "18252  7.511457  \n",
       "41967  6.840516  \n",
       "20229  6.749524  \n",
       "15511  6.637739  \n",
       "19789  6.630444  \n",
       "1110   6.372126  \n",
       "23875  6.303598  \n",
       "18218  5.703256  \n",
       "150    5.292320  "
      ]
     },
     "execution_count": 26,
     "metadata": {},
     "output_type": "execute_result"
    }
   ],
   "source": [
    "get_recommendations('Batman Returns')"
   ]
  },
  {
   "cell_type": "code",
   "execution_count": 27,
   "metadata": {},
   "outputs": [
    {
     "data": {
      "text/html": [
       "<div>\n",
       "<style scoped>\n",
       "    .dataframe tbody tr th:only-of-type {\n",
       "        vertical-align: middle;\n",
       "    }\n",
       "\n",
       "    .dataframe tbody tr th {\n",
       "        vertical-align: top;\n",
       "    }\n",
       "\n",
       "    .dataframe thead th {\n",
       "        text-align: right;\n",
       "    }\n",
       "</style>\n",
       "<table border=\"1\" class=\"dataframe\">\n",
       "  <thead>\n",
       "    <tr style=\"text-align: right;\">\n",
       "      <th></th>\n",
       "      <th>title</th>\n",
       "      <th>vote_count</th>\n",
       "      <th>vote_average</th>\n",
       "      <th>wr</th>\n",
       "    </tr>\n",
       "  </thead>\n",
       "  <tbody>\n",
       "    <tr>\n",
       "      <th>20229</th>\n",
       "      <td>Batman: The Dark Knight Returns, Part 2</td>\n",
       "      <td>426</td>\n",
       "      <td>7.9</td>\n",
       "      <td>6.749524</td>\n",
       "    </tr>\n",
       "    <tr>\n",
       "      <th>2526</th>\n",
       "      <td>Superman</td>\n",
       "      <td>1042</td>\n",
       "      <td>6.9</td>\n",
       "      <td>6.523584</td>\n",
       "    </tr>\n",
       "    <tr>\n",
       "      <th>2527</th>\n",
       "      <td>Superman II</td>\n",
       "      <td>642</td>\n",
       "      <td>6.5</td>\n",
       "      <td>6.144709</td>\n",
       "    </tr>\n",
       "    <tr>\n",
       "      <th>226</th>\n",
       "      <td>Dolores Claiborne</td>\n",
       "      <td>183</td>\n",
       "      <td>7.1</td>\n",
       "      <td>6.058245</td>\n",
       "    </tr>\n",
       "    <tr>\n",
       "      <th>21469</th>\n",
       "      <td>Justice League: Crisis on Two Earths</td>\n",
       "      <td>152</td>\n",
       "      <td>7.1</td>\n",
       "      <td>6.003060</td>\n",
       "    </tr>\n",
       "    <tr>\n",
       "      <th>19063</th>\n",
       "      <td>Superman/Batman: Public Enemies</td>\n",
       "      <td>158</td>\n",
       "      <td>6.7</td>\n",
       "      <td>5.907291</td>\n",
       "    </tr>\n",
       "    <tr>\n",
       "      <th>16626</th>\n",
       "      <td>All Star Superman</td>\n",
       "      <td>121</td>\n",
       "      <td>6.8</td>\n",
       "      <td>5.876201</td>\n",
       "    </tr>\n",
       "    <tr>\n",
       "      <th>19030</th>\n",
       "      <td>Superman: Doomsday</td>\n",
       "      <td>138</td>\n",
       "      <td>6.5</td>\n",
       "      <td>5.831216</td>\n",
       "    </tr>\n",
       "    <tr>\n",
       "      <th>2528</th>\n",
       "      <td>Superman III</td>\n",
       "      <td>500</td>\n",
       "      <td>5.3</td>\n",
       "      <td>5.447697</td>\n",
       "    </tr>\n",
       "    <tr>\n",
       "      <th>2529</th>\n",
       "      <td>Superman IV: The Quest for Peace</td>\n",
       "      <td>327</td>\n",
       "      <td>4.1</td>\n",
       "      <td>4.965129</td>\n",
       "    </tr>\n",
       "  </tbody>\n",
       "</table>\n",
       "</div>"
      ],
      "text/plain": [
       "                                         title  vote_count  vote_average  \\\n",
       "20229  Batman: The Dark Knight Returns, Part 2         426           7.9   \n",
       "2526                                  Superman        1042           6.9   \n",
       "2527                               Superman II         642           6.5   \n",
       "226                          Dolores Claiborne         183           7.1   \n",
       "21469     Justice League: Crisis on Two Earths         152           7.1   \n",
       "19063          Superman/Batman: Public Enemies         158           6.7   \n",
       "16626                        All Star Superman         121           6.8   \n",
       "19030                       Superman: Doomsday         138           6.5   \n",
       "2528                              Superman III         500           5.3   \n",
       "2529          Superman IV: The Quest for Peace         327           4.1   \n",
       "\n",
       "             wr  \n",
       "20229  6.749524  \n",
       "2526   6.523584  \n",
       "2527   6.144709  \n",
       "226    6.058245  \n",
       "21469  6.003060  \n",
       "19063  5.907291  \n",
       "16626  5.876201  \n",
       "19030  5.831216  \n",
       "2528   5.447697  \n",
       "2529   4.965129  "
      ]
     },
     "execution_count": 27,
     "metadata": {},
     "output_type": "execute_result"
    }
   ],
   "source": [
    "get_recommendations('Superman Returns')"
   ]
  },
  {
   "cell_type": "markdown",
   "metadata": {},
   "source": [
    "**Pros** of using content-based recommendation:\n",
    "* Can recommend to users with unique tastes.\n",
    "* Can recommend new items.\n",
    "* The user gets recommended the types of items they love.\n",
    "\n",
    "**Cons** of using content-based recommendation:\n",
    "* Finding the appropriate features is hard.\n",
    "* Unable to exploit quality judgments of other users.\n",
    "* The user will never be recommended for different items.\n",
    "* Business cannot be expanded as the user does not try a different type of product."
   ]
  },
  {
   "cell_type": "markdown",
   "metadata": {},
   "source": [
    "# Nearest Neighbors Collaborative Filtering"
   ]
  },
  {
   "cell_type": "markdown",
   "metadata": {},
   "source": [
    "Collaborative Filtering techniques make recommendations for a user based on ratings and preferences data of many users. The main underlying idea is that if two users have both liked certain common items, then the items that one user has liked that the other user has not yet tried can be recommended to him. We see collaborative filtering techniques in action on various Internet platforms such as Amazon.com, Netflix, Facebook. We are recommended items based on the ratings and purchase data that these platforms collect from their user base.\n",
    "\n",
    "Nearest Neighbors Collaborative Filtering: This approach relies on the idea that users who have similar rating behaviors so far, share the same tastes and will likely exhibit similar rating behaviors going forward. The algorithm first computes the similarity between users by using the row vector in the ratings matrix corresponding to a user as a representation for that user. The similarity is computed by using cosine similarity. In order to predict the rating for a particular user for a given movie j, we find the top k similar users to this particular user and then take a weighted average of the ratings of the k similar users with the weights being the similarity values."
   ]
  },
  {
   "cell_type": "code",
   "execution_count": 5,
   "metadata": {
    "scrolled": true
   },
   "outputs": [
    {
     "data": {
      "text/html": [
       "<div>\n",
       "<style scoped>\n",
       "    .dataframe tbody tr th:only-of-type {\n",
       "        vertical-align: middle;\n",
       "    }\n",
       "\n",
       "    .dataframe tbody tr th {\n",
       "        vertical-align: top;\n",
       "    }\n",
       "\n",
       "    .dataframe thead th {\n",
       "        text-align: right;\n",
       "    }\n",
       "</style>\n",
       "<table border=\"1\" class=\"dataframe\">\n",
       "  <thead>\n",
       "    <tr style=\"text-align: right;\">\n",
       "      <th></th>\n",
       "      <th>userId</th>\n",
       "      <th>movieId</th>\n",
       "      <th>rating</th>\n",
       "      <th>timestamp</th>\n",
       "      <th>title</th>\n",
       "      <th>id</th>\n",
       "    </tr>\n",
       "  </thead>\n",
       "  <tbody>\n",
       "    <tr>\n",
       "      <th>0</th>\n",
       "      <td>1</td>\n",
       "      <td>110</td>\n",
       "      <td>1.0</td>\n",
       "      <td>1425941529</td>\n",
       "      <td>Three Colors: Red</td>\n",
       "      <td>110</td>\n",
       "    </tr>\n",
       "    <tr>\n",
       "      <th>1</th>\n",
       "      <td>11</td>\n",
       "      <td>110</td>\n",
       "      <td>3.5</td>\n",
       "      <td>1231676989</td>\n",
       "      <td>Three Colors: Red</td>\n",
       "      <td>110</td>\n",
       "    </tr>\n",
       "    <tr>\n",
       "      <th>2</th>\n",
       "      <td>22</td>\n",
       "      <td>110</td>\n",
       "      <td>5.0</td>\n",
       "      <td>1111937009</td>\n",
       "      <td>Three Colors: Red</td>\n",
       "      <td>110</td>\n",
       "    </tr>\n",
       "    <tr>\n",
       "      <th>3</th>\n",
       "      <td>24</td>\n",
       "      <td>110</td>\n",
       "      <td>5.0</td>\n",
       "      <td>979870012</td>\n",
       "      <td>Three Colors: Red</td>\n",
       "      <td>110</td>\n",
       "    </tr>\n",
       "    <tr>\n",
       "      <th>4</th>\n",
       "      <td>29</td>\n",
       "      <td>110</td>\n",
       "      <td>3.0</td>\n",
       "      <td>1044020005</td>\n",
       "      <td>Three Colors: Red</td>\n",
       "      <td>110</td>\n",
       "    </tr>\n",
       "  </tbody>\n",
       "</table>\n",
       "</div>"
      ],
      "text/plain": [
       "   userId  movieId  rating   timestamp              title   id\n",
       "0       1      110     1.0  1425941529  Three Colors: Red  110\n",
       "1      11      110     3.5  1231676989  Three Colors: Red  110\n",
       "2      22      110     5.0  1111937009  Three Colors: Red  110\n",
       "3      24      110     5.0   979870012  Three Colors: Red  110\n",
       "4      29      110     3.0  1044020005  Three Colors: Red  110"
      ]
     },
     "execution_count": 5,
     "metadata": {},
     "output_type": "execute_result"
    }
   ],
   "source": [
    "new_ratings = pd.merge(ratings,metadata[['title','id']],left_on='movieId',right_on='id')\n",
    "new_ratings.head()"
   ]
  },
  {
   "cell_type": "markdown",
   "metadata": {},
   "source": [
    "Create the Ratings Matrix, where the columns represent all the movies and each row vectors represents each user's rating in terms of all the movies. Cells filled with 0.0 means that user has never voted for this certain movie."
   ]
  },
  {
   "cell_type": "code",
   "execution_count": 8,
   "metadata": {
    "scrolled": false
   },
   "outputs": [
    {
     "data": {
      "text/html": [
       "<div>\n",
       "<style scoped>\n",
       "    .dataframe tbody tr th:only-of-type {\n",
       "        vertical-align: middle;\n",
       "    }\n",
       "\n",
       "    .dataframe tbody tr th {\n",
       "        vertical-align: top;\n",
       "    }\n",
       "\n",
       "    .dataframe thead th {\n",
       "        text-align: right;\n",
       "    }\n",
       "</style>\n",
       "<table border=\"1\" class=\"dataframe\">\n",
       "  <thead>\n",
       "    <tr style=\"text-align: right;\">\n",
       "      <th>title</th>\n",
       "      <th>!Women Art Revolution</th>\n",
       "      <th>$1,000 on the Black</th>\n",
       "      <th>$5 a Day</th>\n",
       "      <th>'Gator Bait</th>\n",
       "      <th>'R Xmas</th>\n",
       "      <th>'Twas the Night Before Christmas</th>\n",
       "      <th>(A)Sexual</th>\n",
       "      <th>...And God Created Woman</th>\n",
       "      <th>...And the Pursuit of Happiness</th>\n",
       "      <th>00 Schneider - Jagd auf Nihil Baxter</th>\n",
       "      <th>...</th>\n",
       "      <th>¡A volar joven!</th>\n",
       "      <th>¡Three Amigos!</th>\n",
       "      <th>À nos amours</th>\n",
       "      <th>Åke and His World</th>\n",
       "      <th>Æon Flux</th>\n",
       "      <th>Ödipussi</th>\n",
       "      <th>Şaban Oğlu Şaban</th>\n",
       "      <th>Škola princů</th>\n",
       "      <th>Šíleně smutná princezna</th>\n",
       "      <th>Львиная доля</th>\n",
       "    </tr>\n",
       "    <tr>\n",
       "      <th>userId</th>\n",
       "      <th></th>\n",
       "      <th></th>\n",
       "      <th></th>\n",
       "      <th></th>\n",
       "      <th></th>\n",
       "      <th></th>\n",
       "      <th></th>\n",
       "      <th></th>\n",
       "      <th></th>\n",
       "      <th></th>\n",
       "      <th></th>\n",
       "      <th></th>\n",
       "      <th></th>\n",
       "      <th></th>\n",
       "      <th></th>\n",
       "      <th></th>\n",
       "      <th></th>\n",
       "      <th></th>\n",
       "      <th></th>\n",
       "      <th></th>\n",
       "      <th></th>\n",
       "    </tr>\n",
       "  </thead>\n",
       "  <tbody>\n",
       "    <tr>\n",
       "      <th>1</th>\n",
       "      <td>0.0</td>\n",
       "      <td>0.0</td>\n",
       "      <td>0.0</td>\n",
       "      <td>0.0</td>\n",
       "      <td>0.0</td>\n",
       "      <td>0.0</td>\n",
       "      <td>0.0</td>\n",
       "      <td>0.0</td>\n",
       "      <td>0.0</td>\n",
       "      <td>0.0</td>\n",
       "      <td>...</td>\n",
       "      <td>0.0</td>\n",
       "      <td>0.0</td>\n",
       "      <td>0.0</td>\n",
       "      <td>0.0</td>\n",
       "      <td>0.0</td>\n",
       "      <td>0.0</td>\n",
       "      <td>0.0</td>\n",
       "      <td>0.0</td>\n",
       "      <td>0.0</td>\n",
       "      <td>0.0</td>\n",
       "    </tr>\n",
       "    <tr>\n",
       "      <th>2</th>\n",
       "      <td>0.0</td>\n",
       "      <td>0.0</td>\n",
       "      <td>0.0</td>\n",
       "      <td>0.0</td>\n",
       "      <td>0.0</td>\n",
       "      <td>0.0</td>\n",
       "      <td>0.0</td>\n",
       "      <td>0.0</td>\n",
       "      <td>0.0</td>\n",
       "      <td>0.0</td>\n",
       "      <td>...</td>\n",
       "      <td>0.0</td>\n",
       "      <td>0.0</td>\n",
       "      <td>0.0</td>\n",
       "      <td>0.0</td>\n",
       "      <td>0.0</td>\n",
       "      <td>0.0</td>\n",
       "      <td>0.0</td>\n",
       "      <td>0.0</td>\n",
       "      <td>0.0</td>\n",
       "      <td>0.0</td>\n",
       "    </tr>\n",
       "    <tr>\n",
       "      <th>3</th>\n",
       "      <td>0.0</td>\n",
       "      <td>0.0</td>\n",
       "      <td>0.0</td>\n",
       "      <td>0.0</td>\n",
       "      <td>0.0</td>\n",
       "      <td>0.0</td>\n",
       "      <td>0.0</td>\n",
       "      <td>0.0</td>\n",
       "      <td>0.0</td>\n",
       "      <td>0.0</td>\n",
       "      <td>...</td>\n",
       "      <td>0.0</td>\n",
       "      <td>0.0</td>\n",
       "      <td>0.0</td>\n",
       "      <td>0.0</td>\n",
       "      <td>0.0</td>\n",
       "      <td>0.0</td>\n",
       "      <td>0.0</td>\n",
       "      <td>0.0</td>\n",
       "      <td>0.0</td>\n",
       "      <td>0.0</td>\n",
       "    </tr>\n",
       "    <tr>\n",
       "      <th>4</th>\n",
       "      <td>0.0</td>\n",
       "      <td>0.0</td>\n",
       "      <td>0.0</td>\n",
       "      <td>0.0</td>\n",
       "      <td>0.0</td>\n",
       "      <td>0.0</td>\n",
       "      <td>0.0</td>\n",
       "      <td>0.0</td>\n",
       "      <td>0.0</td>\n",
       "      <td>0.0</td>\n",
       "      <td>...</td>\n",
       "      <td>0.0</td>\n",
       "      <td>0.0</td>\n",
       "      <td>0.0</td>\n",
       "      <td>0.0</td>\n",
       "      <td>0.0</td>\n",
       "      <td>0.0</td>\n",
       "      <td>0.0</td>\n",
       "      <td>0.0</td>\n",
       "      <td>0.0</td>\n",
       "      <td>0.0</td>\n",
       "    </tr>\n",
       "    <tr>\n",
       "      <th>5</th>\n",
       "      <td>0.0</td>\n",
       "      <td>0.0</td>\n",
       "      <td>0.0</td>\n",
       "      <td>0.0</td>\n",
       "      <td>0.0</td>\n",
       "      <td>0.0</td>\n",
       "      <td>0.0</td>\n",
       "      <td>0.0</td>\n",
       "      <td>0.0</td>\n",
       "      <td>0.0</td>\n",
       "      <td>...</td>\n",
       "      <td>0.0</td>\n",
       "      <td>0.0</td>\n",
       "      <td>0.0</td>\n",
       "      <td>0.0</td>\n",
       "      <td>0.0</td>\n",
       "      <td>0.0</td>\n",
       "      <td>0.0</td>\n",
       "      <td>0.0</td>\n",
       "      <td>0.0</td>\n",
       "      <td>0.0</td>\n",
       "    </tr>\n",
       "  </tbody>\n",
       "</table>\n",
       "<p>5 rows × 7409 columns</p>\n",
       "</div>"
      ],
      "text/plain": [
       "title   !Women Art Revolution  $1,000 on the Black  $5 a Day  'Gator Bait  \\\n",
       "userId                                                                      \n",
       "1                         0.0                  0.0       0.0          0.0   \n",
       "2                         0.0                  0.0       0.0          0.0   \n",
       "3                         0.0                  0.0       0.0          0.0   \n",
       "4                         0.0                  0.0       0.0          0.0   \n",
       "5                         0.0                  0.0       0.0          0.0   \n",
       "\n",
       "title   'R Xmas  'Twas the Night Before Christmas  (A)Sexual  \\\n",
       "userId                                                         \n",
       "1           0.0                               0.0        0.0   \n",
       "2           0.0                               0.0        0.0   \n",
       "3           0.0                               0.0        0.0   \n",
       "4           0.0                               0.0        0.0   \n",
       "5           0.0                               0.0        0.0   \n",
       "\n",
       "title   ...And God Created Woman  ...And the Pursuit of Happiness  \\\n",
       "userId                                                              \n",
       "1                            0.0                              0.0   \n",
       "2                            0.0                              0.0   \n",
       "3                            0.0                              0.0   \n",
       "4                            0.0                              0.0   \n",
       "5                            0.0                              0.0   \n",
       "\n",
       "title   00 Schneider - Jagd auf Nihil Baxter      ...       ¡A volar joven!  \\\n",
       "userId                                            ...                         \n",
       "1                                        0.0      ...                   0.0   \n",
       "2                                        0.0      ...                   0.0   \n",
       "3                                        0.0      ...                   0.0   \n",
       "4                                        0.0      ...                   0.0   \n",
       "5                                        0.0      ...                   0.0   \n",
       "\n",
       "title   ¡Three Amigos!  À nos amours  Åke and His World  Æon Flux  Ödipussi  \\\n",
       "userId                                                                        \n",
       "1                  0.0           0.0                0.0       0.0       0.0   \n",
       "2                  0.0           0.0                0.0       0.0       0.0   \n",
       "3                  0.0           0.0                0.0       0.0       0.0   \n",
       "4                  0.0           0.0                0.0       0.0       0.0   \n",
       "5                  0.0           0.0                0.0       0.0       0.0   \n",
       "\n",
       "title   Şaban Oğlu Şaban  Škola princů  Šíleně smutná princezna  Львиная доля  \n",
       "userId                                                                         \n",
       "1                    0.0           0.0                      0.0           0.0  \n",
       "2                    0.0           0.0                      0.0           0.0  \n",
       "3                    0.0           0.0                      0.0           0.0  \n",
       "4                    0.0           0.0                      0.0           0.0  \n",
       "5                    0.0           0.0                      0.0           0.0  \n",
       "\n",
       "[5 rows x 7409 columns]"
      ]
     },
     "execution_count": 8,
     "metadata": {},
     "output_type": "execute_result"
    }
   ],
   "source": [
    "if not new_ratings[new_ratings.duplicated(['userId','title'])].empty:\n",
    "    new_ratings = new_ratings.drop_duplicates(['userId','title'])\n",
    "df_for_knn = new_ratings.pivot(index='userId',columns='title',values='rating').fillna(0)\n",
    "df_for_knn.head()"
   ]
  },
  {
   "cell_type": "markdown",
   "metadata": {},
   "source": [
    "Fast computation of nearest neighbors is an active area of research in machine learning. The most naive neighbor search implementation involves the brute-force computation of distances between all pairs of points in the dataset.\n",
    "\n",
    "We implement the KNN algorithm that computes the similarity between users by using the row vector in the ratings matrix corresponding to a user as a representation for that user. Algorithm used to compute the nearest neighbors  will use a brute-force search. The similarity is computed by using cosine similarity."
   ]
  },
  {
   "cell_type": "code",
   "execution_count": 11,
   "metadata": {
    "scrolled": true
   },
   "outputs": [
    {
     "data": {
      "text/plain": [
       "NearestNeighbors(algorithm='brute', leaf_size=30, metric='cosine',\n",
       "         metric_params=None, n_jobs=None, n_neighbors=5, p=2, radius=1.0)"
      ]
     },
     "execution_count": 11,
     "metadata": {},
     "output_type": "execute_result"
    }
   ],
   "source": [
    "df_for_knn_sparse = csr_matrix(df_for_knn.values)\n",
    "model_knn = NearestNeighbors(metric='cosine',algorithm='brute')\n",
    "model_knn.fit(df_for_knn_sparse) "
   ]
  },
  {
   "cell_type": "markdown",
   "metadata": {},
   "source": [
    "Then, we get the top k similar users to this particular user along with their distance values. Remember: the smallest the distance value is the more similar the two users are."
   ]
  },
  {
   "cell_type": "code",
   "execution_count": 12,
   "metadata": {},
   "outputs": [
    {
     "name": "stdout",
     "output_type": "stream",
     "text": [
      "Nearest Neighbors of User with ID = 120:\n",
      "1: UserId: 79091 -- Distance: 0.4358862071111006\n",
      "2: UserId: 48329 -- Distance: 0.4399554612891232\n",
      "3: UserId: 170179 -- Distance: 0.4451046099840349\n",
      "4: UserId: 165164 -- Distance: 0.4460073130464167\n",
      "5: UserId: 151656 -- Distance: 0.4479670049842581\n",
      "6: UserId: 14127 -- Distance: 0.45085036889186847\n",
      "7: UserId: 249319 -- Distance: 0.4533490133003407\n",
      "8: UserId: 6893 -- Distance: 0.45566191969954795\n",
      "9: UserId: 80096 -- Distance: 0.45597422711617475\n",
      "10: UserId: 100589 -- Distance: 0.45815050773907007\n"
     ]
    }
   ],
   "source": [
    "userid = 120\n",
    "n_neighbors = 11 # for top 10 (the first is the user itself)\n",
    "distances, indices = model_knn.kneighbors(df_for_knn.loc[userid].values.reshape(1,-1),n_neighbors=11) # get the top k similar users to this particular user\n",
    "print(\"Nearest Neighbors of User with ID = {0}:\".format(userid))\n",
    "for i in range(0,len(distances.flatten())):\n",
    "    if i!=0: # avoid the first user that is the user itself\n",
    "        print(\"{0}: UserId: {1} -- Distance: {2}\".format(i,df_for_knn.index[indices.flatten()[i]],distances.flatten()[i])) "
   ]
  },
  {
   "cell_type": "markdown",
   "metadata": {},
   "source": [
    "In order to predict the rating for a particular user for a given movie j, we compute a weighted average of the ratings of the k similar users with the weights being the similarity values. We assumed that similarity = 1 - distance."
   ]
  },
  {
   "cell_type": "code",
   "execution_count": 13,
   "metadata": {},
   "outputs": [
    {
     "name": "stdout",
     "output_type": "stream",
     "text": [
      "The rating that the user with ID = 120 will give in the movie Batman Returns is: 3.4\n"
     ]
    }
   ],
   "source": [
    "sum = 0\n",
    "weightsum = 0\n",
    "movie = 'Batman Returns' # the movie we'll try to predict the rating \n",
    "for i in range(0,len(distances.flatten())):\n",
    "    if i!=0:\n",
    "        indice = df_for_knn.index[indices.flatten()[i]]\n",
    "        weight = 1 - distances.flatten()[i] # computes the weights according to the similarity\n",
    "        sum = sum + df_for_knn.loc[indice, movie]*weight # computes the weighted sum\n",
    "        weightsum = weightsum + weight\n",
    "print (\"The rating that the user with ID = {0} will give in the movie {1} is: {2}\".format(userid,movie,round(sum/weightsum,1)))"
   ]
  },
  {
   "cell_type": "markdown",
   "metadata": {},
   "source": [
    "Cons of using Nearest Neighbors Collaborative Filtering:\n",
    "\n",
    "It suffers issues such as sparsity, cold start and scalability problem.\n",
    "* Sparsity: Ιts a very common problem which usually observed, when a user do not prefer to give feedback or like dislike any item. This creates a difficulty in finding nearest neighbor or similar user, according to which the system makes recommendation.\n",
    "* Cold start: it appears in the early stages of a system or  when new users or items that don't have any ratings enter the system.\n",
    "* Scalability and big data: as the no of users and items are rapidly increasing so the load on the system is also increasing simultaneously. Large datasets acquires more time to process, to extract information which compromises the quality, processing time of the recommender system.\n",
    "\n"
   ]
  },
  {
   "cell_type": "markdown",
   "metadata": {},
   "source": [
    "### REFERENCES:\n",
    "PAPERS\n",
    "\n",
    "1. Sappadla, Prateek, Yash Sadhwani, and Pranit Arora. “Movie Recommender System.” Search Engine Architecture, Spring 2017, NYU Courant, (n.d.): 5.\n",
    "\n",
    "2.  Kalra, Nupur, Deepak Yadav, and Gourav Bathla. “Movie Recommender System Using Collaborative Filtering.” International Journal on Future Revolution in Computer Science & Communication Engineering, 4, no. 12 (n.d.): 5, December 2018.\n",
    "\n",
    "3. Arefin, Ahmed Shamsul, Carlos Riveros, Regina Berretta, and Pablo Moscato. “GPU-FS-KNN: A Software Tool for Fast and Scalable KNN Computation Using GPUs.” Edited by Alexandre G. de Brevern. PLoS ONE7, no. 8 (August 28, 2012): e44000.\n",
    "\n",
    "WEBSITES\n",
    "\n",
    "1. https://grouplens.org/datasets/movielens/\n",
    "2. https://towardsdatascience.com/brief-on-recommender-systems-b86a1068a4dd"
   ]
  },
  {
   "cell_type": "markdown",
   "metadata": {},
   "source": [
    "### EXAMPLES OF WEBSITES THAT USE OUR RECOMMENDER SYSTEMS:\n",
    "- https://www.netflix.com/browse\n",
    "\n",
    "- https://www.imdb.com/?ref_=nv_home\n",
    "\n",
    "- https://openlibrary.org/\n"
   ]
  }
 ],
 "metadata": {
  "kernelspec": {
   "display_name": "Python 3",
   "language": "python",
   "name": "python3"
  },
  "language_info": {
   "codemirror_mode": {
    "name": "ipython",
    "version": 3
   },
   "file_extension": ".py",
   "mimetype": "text/x-python",
   "name": "python",
   "nbconvert_exporter": "python",
   "pygments_lexer": "ipython3",
   "version": "3.7.1"
  }
 },
 "nbformat": 4,
 "nbformat_minor": 2
}
